{
 "cells": [
  {
   "cell_type": "code",
   "execution_count": 1,
   "metadata": {
    "tags": [
     "remove_cells"
    ]
   },
   "outputs": [
    {
     "name": "stdout",
     "output_type": "stream",
     "text": [
      "Populating the interactive namespace from numpy and matplotlib\n"
     ]
    },
    {
     "name": "stderr",
     "output_type": "stream",
     "text": [
      "/Users/yasser/.local/share/virtualenvs/negmas-bNSbQ2CL/lib/python3.6/site-packages/IPython/core/magics/pylab.py:160: UserWarning: pylab import has clobbered these variables: ['plt']\n",
      "`%matplotlib` prevents importing * from pylab and numpy\n",
      "  \"\\n`%matplotlib` prevents importing * from pylab and numpy\"\n"
     ]
    },
    {
     "data": {
      "text/html": [
       "<style>.container { width:95% !important; }</style>"
      ],
      "text/plain": [
       "<style>.container { width:95% !important; }</style>"
      ]
     },
     "execution_count": 0,
     "metadata": {},
     "output_type": "execute_result"
    }
   ],
   "source": [
    "# setup disply parameters\n",
    "import pandas as pd\n",
    "import numpy as np\n",
    "from matplotlib import pylab as plt\n",
    "from matplotlib.ticker import StrMethodFormatter\n",
    "float_formatter = StrMethodFormatter('{x:0.03f}')\n",
    "%pylab inline\n",
    "from IPython.core.display import display, HTML\n",
    "display(HTML(\"<style>.container { width:95% !important; }</style>\"))\n",
    "%config InlineBackend.figure_formats = ['retina', 'pdf', 'png']\n",
    "\n",
    "SMALL_SIZE = 14\n",
    "MEDIUM_SIZE = 16\n",
    "BIGGER_SIZE = 20\n",
    "\n",
    "plt.rc('font', size=SMALL_SIZE)          # controls default text sizes\n",
    "plt.rc('axes', titlesize=SMALL_SIZE)     # fontsize of the axes title\n",
    "plt.rc('axes', labelsize=MEDIUM_SIZE)    # fontsize of the x and y labels\n",
    "plt.rc('xtick', labelsize=SMALL_SIZE)    # fontsize of the tick labels\n",
    "plt.rc('ytick', labelsize=SMALL_SIZE)    # fontsize of the tick labels\n",
    "plt.rc('legend', fontsize=SMALL_SIZE)    # legend fontsize\n",
    "plt.rc('figure', titlesize=BIGGER_SIZE)  # fontsize of the figure title\n",
    "pylab.rcParams['figure.figsize'] = (18, 6)"
   ]
  },
  {
   "cell_type": "markdown",
   "metadata": {},
   "source": [
    "## Develop a factory manager (agent) for the SCM world\n",
    "\n",
    "This tutorial describes how to develop an agent for the SCM world, test it, and submit it to the ANAC 2019 SCM league.\n",
    "\n",
    "The first step is to install negmas\n",
    "\n",
    "```bash\n",
    "pip install negmas\n",
    "```\n",
    "Once you have this library installed, you can start developing your factory manager:"
   ]
  },
  {
   "cell_type": "markdown",
   "metadata": {},
   "source": [
    "You are told that you cannot instantiate your newly created class as did not implement the abstract (required) method ```on_negotiation_request```. That is actually the ONLY abstract method you need to implement."
   ]
  },
  {
   "cell_type": "code",
   "execution_count": 8,
   "metadata": {},
   "outputs": [],
   "source": [
    "class MyFactoryManager(FactoryManager):\n",
    "    \"\"\"My factory manager\"\"\""
   ]
  },
  {
   "cell_type": "markdown",
   "metadata": {},
   "source": [
    "As the [documentation](http://www.yasserm.com/negmas/negmas.apps.scml.html?highlight=on_negotiation_request#negmas.apps.scml.SCMLAgent.on_negotiation_request) states, this function is called whenever your factory manager receives a request from another agent to negotiate. You can either return `None` if you do not want to accept this negotiation or create  a `Negotiator` that represents your agent in it.\n",
    "\n",
    "\n",
    "Your do-nothing agent is almost ready. Let's try it:"
   ]
  },
  {
   "cell_type": "markdown",
   "metadata": {},
   "source": [
    "The property `stats` in `World` gives you several statistics about the world for every time-step of the simulation.\n",
    "\n",
    "Let's check the contracts of this world:"
   ]
  },
  {
   "cell_type": "markdown",
   "metadata": {},
   "source": [
    "Let's try to run a tournament with this do-nothing agent against the built-in greedy agent:"
   ]
  },
  {
   "cell_type": "markdown",
   "metadata": {},
   "source": []
  },
  {
   "cell_type": "code",
   "execution_count": 10,
   "metadata": {
    "collapsed": true
   },
   "outputs": [
    {
     "name": "stdout",
     "output_type": "stream",
     "text": [
      "1  of 10 steps completed\n",
      "2  of 10 steps completed\n",
      "3  of 10 steps completed\n",
      "4  of 10 steps completed\n",
      "5  of 10 steps completed\n",
      "6  of 10 steps completed\n",
      "7  of 10 steps completed\n",
      "8  of 10 steps completed\n",
      "9  of 10 steps completed\n",
      "10  of 10 steps completed\n",
      "0 worlds completed\n",
      "1 worlds completed\n",
      "Traceback (most recent call last):\n",
      "  File \"/Users/yasser/code/projects/negmas/negmas/situated.py\", line 1807, in tournament\n",
      "    scores.append(_process_world_run(score_, tournament_name=name, dir_name=str(dir_name)))\n",
      "  File \"/Users/yasser/code/projects/negmas/negmas/situated.py\", line 1683, in _process_world_run\n",
      "    , columns=['agent_name', 'score', 'agent_type', 'log_file_names', 'world_name', 'stats_folder'])\n",
      "  File \"/Users/yasser/.local/share/virtualenvs/negmas-bNSbQ2CL/lib/python3.6/site-packages/pandas/core/frame.py\", line 435, in __init__\n",
      "    arrays, columns = to_arrays(data, columns, dtype=dtype)\n",
      "  File \"/Users/yasser/.local/share/virtualenvs/negmas-bNSbQ2CL/lib/python3.6/site-packages/pandas/core/internals/construction.py\", line 404, in to_arrays\n",
      "    dtype=dtype)\n",
      "  File \"/Users/yasser/.local/share/virtualenvs/negmas-bNSbQ2CL/lib/python3.6/site-packages/pandas/core/internals/construction.py\", line 436, in _list_to_arrays\n",
      "    coerce_float=coerce_float)\n",
      "  File \"/Users/yasser/.local/share/virtualenvs/negmas-bNSbQ2CL/lib/python3.6/site-packages/pandas/core/internals/construction.py\", line 492, in _convert_object_array\n",
      "    con=len(content)))\n",
      "AssertionError: 6 columns passed, passed data had 24 columns\n",
      "\n",
      "6 columns passed, passed data had 24 columns\n",
      "1  of 10 steps completed\n",
      "2  of 10 steps completed\n",
      "3  of 10 steps completed\n",
      "4  of 10 steps completed\n",
      "5  of 10 steps completed\n",
      "6  of 10 steps completed\n",
      "7  of 10 steps completed\n",
      "8  of 10 steps completed\n",
      "9  of 10 steps completed\n",
      "10  of 10 steps completed\n",
      "2 worlds completed\n",
      "3 worlds completed\n",
      "Traceback (most recent call last):\n",
      "  File \"/Users/yasser/code/projects/negmas/negmas/situated.py\", line 1807, in tournament\n",
      "    scores.append(_process_world_run(score_, tournament_name=name, dir_name=str(dir_name)))\n",
      "  File \"/Users/yasser/code/projects/negmas/negmas/situated.py\", line 1683, in _process_world_run\n",
      "    , columns=['agent_name', 'score', 'agent_type', 'log_file_names', 'world_name', 'stats_folder'])\n",
      "  File \"/Users/yasser/.local/share/virtualenvs/negmas-bNSbQ2CL/lib/python3.6/site-packages/pandas/core/frame.py\", line 435, in __init__\n",
      "    arrays, columns = to_arrays(data, columns, dtype=dtype)\n",
      "  File \"/Users/yasser/.local/share/virtualenvs/negmas-bNSbQ2CL/lib/python3.6/site-packages/pandas/core/internals/construction.py\", line 404, in to_arrays\n",
      "    dtype=dtype)\n",
      "  File \"/Users/yasser/.local/share/virtualenvs/negmas-bNSbQ2CL/lib/python3.6/site-packages/pandas/core/internals/construction.py\", line 436, in _list_to_arrays\n",
      "    coerce_float=coerce_float)\n",
      "  File \"/Users/yasser/.local/share/virtualenvs/negmas-bNSbQ2CL/lib/python3.6/site-packages/pandas/core/internals/construction.py\", line 492, in _convert_object_array\n",
      "    con=len(content)))\n",
      "AssertionError: 6 columns passed, passed data had 24 columns\n",
      "\n",
      "6 columns passed, passed data had 24 columns\n",
      "1  of 10 steps completed\n",
      "2  of 10 steps completed\n",
      "3  of 10 steps completed\n",
      "4  of 10 steps completed\n",
      "5  of 10 steps completed\n",
      "6  of 10 steps completed\n",
      "7  of 10 steps completed\n",
      "8  of 10 steps completed\n",
      "9  of 10 steps completed\n",
      "10  of 10 steps completed\n",
      "4 worlds completed\n",
      "5 worlds completed\n",
      "Traceback (most recent call last):\n",
      "  File \"/Users/yasser/code/projects/negmas/negmas/situated.py\", line 1807, in tournament\n",
      "    scores.append(_process_world_run(score_, tournament_name=name, dir_name=str(dir_name)))\n",
      "  File \"/Users/yasser/code/projects/negmas/negmas/situated.py\", line 1683, in _process_world_run\n",
      "    , columns=['agent_name', 'score', 'agent_type', 'log_file_names', 'world_name', 'stats_folder'])\n",
      "  File \"/Users/yasser/.local/share/virtualenvs/negmas-bNSbQ2CL/lib/python3.6/site-packages/pandas/core/frame.py\", line 435, in __init__\n",
      "    arrays, columns = to_arrays(data, columns, dtype=dtype)\n",
      "  File \"/Users/yasser/.local/share/virtualenvs/negmas-bNSbQ2CL/lib/python3.6/site-packages/pandas/core/internals/construction.py\", line 404, in to_arrays\n",
      "    dtype=dtype)\n",
      "  File \"/Users/yasser/.local/share/virtualenvs/negmas-bNSbQ2CL/lib/python3.6/site-packages/pandas/core/internals/construction.py\", line 436, in _list_to_arrays\n",
      "    coerce_float=coerce_float)\n",
      "  File \"/Users/yasser/.local/share/virtualenvs/negmas-bNSbQ2CL/lib/python3.6/site-packages/pandas/core/internals/construction.py\", line 492, in _convert_object_array\n",
      "    con=len(content)))\n",
      "AssertionError: 6 columns passed, passed data had 24 columns\n",
      "\n",
      "6 columns passed, passed data had 24 columns\n",
      "1  of 10 steps completed\n",
      "2  of 10 steps completed\n",
      "3  of 10 steps completed\n",
      "4  of 10 steps completed\n",
      "5  of 10 steps completed\n",
      "6  of 10 steps completed\n",
      "7  of 10 steps completed\n",
      "8  of 10 steps completed\n",
      "9  of 10 steps completed\n",
      "10  of 10 steps completed\n",
      "6 worlds completed\n",
      "7 worlds completed\n",
      "Traceback (most recent call last):\n",
      "  File \"/Users/yasser/code/projects/negmas/negmas/situated.py\", line 1807, in tournament\n",
      "    scores.append(_process_world_run(score_, tournament_name=name, dir_name=str(dir_name)))\n",
      "  File \"/Users/yasser/code/projects/negmas/negmas/situated.py\", line 1683, in _process_world_run\n",
      "    , columns=['agent_name', 'score', 'agent_type', 'log_file_names', 'world_name', 'stats_folder'])\n",
      "  File \"/Users/yasser/.local/share/virtualenvs/negmas-bNSbQ2CL/lib/python3.6/site-packages/pandas/core/frame.py\", line 435, in __init__\n",
      "    arrays, columns = to_arrays(data, columns, dtype=dtype)\n",
      "  File \"/Users/yasser/.local/share/virtualenvs/negmas-bNSbQ2CL/lib/python3.6/site-packages/pandas/core/internals/construction.py\", line 404, in to_arrays\n",
      "    dtype=dtype)\n",
      "  File \"/Users/yasser/.local/share/virtualenvs/negmas-bNSbQ2CL/lib/python3.6/site-packages/pandas/core/internals/construction.py\", line 436, in _list_to_arrays\n",
      "    coerce_float=coerce_float)\n",
      "  File \"/Users/yasser/.local/share/virtualenvs/negmas-bNSbQ2CL/lib/python3.6/site-packages/pandas/core/internals/construction.py\", line 492, in _convert_object_array\n",
      "    con=len(content)))\n",
      "AssertionError: 6 columns passed, passed data had 24 columns\n",
      "\n",
      "6 columns passed, passed data had 24 columns\n"
     ]
    },
    {
     "ename": "ValueError",
     "evalue": "No objects to concatenate",
     "output_type": "error",
     "traceback": [
      "\u001b[0;31m---------------------------------------------------------------------------\u001b[0m",
      "\u001b[0;31mValueError\u001b[0m                                Traceback (most recent call last)",
      "\u001b[0;32m<ipython-input-10-abc3c69dddff>\u001b[0m in \u001b[0;36m<module>\u001b[0;34m\u001b[0m\n\u001b[1;32m     21\u001b[0m                       \u001b[0;34m,\u001b[0m \u001b[0mmax_insurance_premium\u001b[0m\u001b[0;34m=\u001b[0m\u001b[0;36m100\u001b[0m\u001b[0;34m,\u001b[0m \u001b[0mn_retrials\u001b[0m\u001b[0;34m=\u001b[0m\u001b[0;36m5\u001b[0m\u001b[0;34m\u001b[0m\u001b[0m\n\u001b[1;32m     22\u001b[0m                       \u001b[0;34m,\u001b[0m \u001b[0mtournament_progress_callback\u001b[0m\u001b[0;34m=\u001b[0m\u001b[0mprint_progress\u001b[0m\u001b[0;34m\u001b[0m\u001b[0m\n\u001b[0;32m---> 23\u001b[0;31m                       , world_progress_callback=print_world_progress)\n\u001b[0m",
      "\u001b[0;32m~/code/projects/negmas/negmas/apps/scml/utils.py\u001b[0m in \u001b[0;36manac2019_tournament\u001b[0;34m(competitors, randomize, agent_names_reveal_type, n_runs, tournament_path, total_timeout, parallelism, scheduler_ip, scheduler_port, tournament_progress_callback, world_progress_callback, name, **kwargs)\u001b[0m\n\u001b[1;32m    168\u001b[0m                       \u001b[0;34m,\u001b[0m \u001b[0mtournament_progress_callback\u001b[0m\u001b[0;34m=\u001b[0m\u001b[0mtournament_progress_callback\u001b[0m\u001b[0;34m\u001b[0m\u001b[0m\n\u001b[1;32m    169\u001b[0m                       \u001b[0;34m,\u001b[0m \u001b[0mworld_progress_callback\u001b[0m\u001b[0;34m=\u001b[0m\u001b[0mworld_progress_callback\u001b[0m\u001b[0;34m,\u001b[0m \u001b[0mname\u001b[0m\u001b[0;34m=\u001b[0m\u001b[0mname\u001b[0m\u001b[0;34m\u001b[0m\u001b[0m\n\u001b[0;32m--> 170\u001b[0;31m                       , world_generator=anac2019_world, score_calculator=balance_calculator, **kwargs)\n\u001b[0m",
      "\u001b[0;32m~/code/projects/negmas/negmas/situated.py\u001b[0m in \u001b[0;36mtournament\u001b[0;34m(competitors, world_generator, score_calculator, randomize, agent_names_reveal_type, n_runs, tournament_path, total_timeout, parallelism, scheduler_ip, scheduler_port, tournament_progress_callback, world_progress_callback, name, **kwargs)\u001b[0m\n\u001b[1;32m   1847\u001b[0m                 \u001b[0mprint\u001b[0m\u001b[0;34m(\u001b[0m\u001b[0me\u001b[0m\u001b[0;34m)\u001b[0m\u001b[0;34m\u001b[0m\u001b[0m\n\u001b[1;32m   1848\u001b[0m \u001b[0;34m\u001b[0m\u001b[0m\n\u001b[0;32m-> 1849\u001b[0;31m     \u001b[0mscores\u001b[0m\u001b[0;34m:\u001b[0m \u001b[0mpd\u001b[0m\u001b[0;34m.\u001b[0m\u001b[0mDataFrame\u001b[0m \u001b[0;34m=\u001b[0m \u001b[0mpd\u001b[0m\u001b[0;34m.\u001b[0m\u001b[0mconcat\u001b[0m\u001b[0;34m(\u001b[0m\u001b[0mscores\u001b[0m\u001b[0;34m,\u001b[0m \u001b[0mignore_index\u001b[0m\u001b[0;34m=\u001b[0m\u001b[0;32mTrue\u001b[0m\u001b[0;34m)\u001b[0m\u001b[0;34m\u001b[0m\u001b[0m\n\u001b[0m\u001b[1;32m   1850\u001b[0m     \u001b[0mscores\u001b[0m \u001b[0;34m=\u001b[0m \u001b[0mpd\u001b[0m\u001b[0;34m.\u001b[0m\u001b[0mDataFrame\u001b[0m\u001b[0;34m(\u001b[0m\u001b[0mdata\u001b[0m\u001b[0;34m=\u001b[0m\u001b[0mscores\u001b[0m\u001b[0;34m)\u001b[0m\u001b[0;34m\u001b[0m\u001b[0m\n\u001b[1;32m   1851\u001b[0m     \u001b[0mscores\u001b[0m\u001b[0;34m.\u001b[0m\u001b[0mto_csv\u001b[0m\u001b[0;34m(\u001b[0m\u001b[0mscores_file\u001b[0m\u001b[0;34m,\u001b[0m \u001b[0mindex_label\u001b[0m\u001b[0;34m=\u001b[0m\u001b[0;34m'index'\u001b[0m\u001b[0;34m)\u001b[0m\u001b[0;34m\u001b[0m\u001b[0m\n",
      "\u001b[0;32m~/.local/share/virtualenvs/negmas-bNSbQ2CL/lib/python3.6/site-packages/pandas/core/reshape/concat.py\u001b[0m in \u001b[0;36mconcat\u001b[0;34m(objs, axis, join, join_axes, ignore_index, keys, levels, names, verify_integrity, sort, copy)\u001b[0m\n\u001b[1;32m    226\u001b[0m                        \u001b[0mkeys\u001b[0m\u001b[0;34m=\u001b[0m\u001b[0mkeys\u001b[0m\u001b[0;34m,\u001b[0m \u001b[0mlevels\u001b[0m\u001b[0;34m=\u001b[0m\u001b[0mlevels\u001b[0m\u001b[0;34m,\u001b[0m \u001b[0mnames\u001b[0m\u001b[0;34m=\u001b[0m\u001b[0mnames\u001b[0m\u001b[0;34m,\u001b[0m\u001b[0;34m\u001b[0m\u001b[0m\n\u001b[1;32m    227\u001b[0m                        \u001b[0mverify_integrity\u001b[0m\u001b[0;34m=\u001b[0m\u001b[0mverify_integrity\u001b[0m\u001b[0;34m,\u001b[0m\u001b[0;34m\u001b[0m\u001b[0m\n\u001b[0;32m--> 228\u001b[0;31m                        copy=copy, sort=sort)\n\u001b[0m\u001b[1;32m    229\u001b[0m     \u001b[0;32mreturn\u001b[0m \u001b[0mop\u001b[0m\u001b[0;34m.\u001b[0m\u001b[0mget_result\u001b[0m\u001b[0;34m(\u001b[0m\u001b[0;34m)\u001b[0m\u001b[0;34m\u001b[0m\u001b[0m\n\u001b[1;32m    230\u001b[0m \u001b[0;34m\u001b[0m\u001b[0m\n",
      "\u001b[0;32m~/.local/share/virtualenvs/negmas-bNSbQ2CL/lib/python3.6/site-packages/pandas/core/reshape/concat.py\u001b[0m in \u001b[0;36m__init__\u001b[0;34m(self, objs, axis, join, join_axes, keys, levels, names, ignore_index, verify_integrity, copy, sort)\u001b[0m\n\u001b[1;32m    260\u001b[0m \u001b[0;34m\u001b[0m\u001b[0m\n\u001b[1;32m    261\u001b[0m         \u001b[0;32mif\u001b[0m \u001b[0mlen\u001b[0m\u001b[0;34m(\u001b[0m\u001b[0mobjs\u001b[0m\u001b[0;34m)\u001b[0m \u001b[0;34m==\u001b[0m \u001b[0;36m0\u001b[0m\u001b[0;34m:\u001b[0m\u001b[0;34m\u001b[0m\u001b[0m\n\u001b[0;32m--> 262\u001b[0;31m             \u001b[0;32mraise\u001b[0m \u001b[0mValueError\u001b[0m\u001b[0;34m(\u001b[0m\u001b[0;34m'No objects to concatenate'\u001b[0m\u001b[0;34m)\u001b[0m\u001b[0;34m\u001b[0m\u001b[0m\n\u001b[0m\u001b[1;32m    263\u001b[0m \u001b[0;34m\u001b[0m\u001b[0m\n\u001b[1;32m    264\u001b[0m         \u001b[0;32mif\u001b[0m \u001b[0mkeys\u001b[0m \u001b[0;32mis\u001b[0m \u001b[0;32mNone\u001b[0m\u001b[0;34m:\u001b[0m\u001b[0;34m\u001b[0m\u001b[0m\n",
      "\u001b[0;31mValueError\u001b[0m: No objects to concatenate"
     ]
    }
   ],
   "source": [
    "from negmas.apps.scml.utils import anac2019_tournament\n",
    "from negmas.apps.scml import GreedyFactoryManager\n",
    "\n",
    "n_completed = 0\n",
    "\n",
    "\n",
    "def print_progress(_) -> None:\n",
    "    global n_completed\n",
    "    print(f'{n_completed} worlds completed')\n",
    "    n_completed += 1\n",
    "\n",
    "\n",
    "def print_world_progress(world) -> None:\n",
    "    print(f'{world.current_step}  of {world.n_steps} steps completed')    \n",
    "\n",
    "\n",
    "results = anac2019_tournament(competitors=(MyFactoryManager, GreedyFactoryManager), agent_names_reveal_type=True\n",
    "                              , n_runs=4, n_steps=10, parallelism='serial', n_default_per_level=5\n",
    "                      , n_factories_per_level=11, n_intermediate=3\n",
    "                      , default_signing_delay=0, max_storage=1000000\n",
    "                      , max_insurance_premium=100, n_retrials=5\n",
    "                      , tournament_progress_callback=print_progress\n",
    "                      , world_progress_callback=print_world_progress)"
   ]
  },
  {
   "cell_type": "markdown",
   "metadata": {},
   "source": [
    "You can see the scores that each individual factory manager got:"
   ]
  },
  {
   "cell_type": "code",
   "execution_count": null,
   "metadata": {},
   "outputs": [],
   "source": [
    "results.scores.head()"
   ]
  },
  {
   "cell_type": "markdown",
   "metadata": {},
   "source": [
    "You can also check the total scores for each factory manager type:"
   ]
  },
  {
   "cell_type": "code",
   "execution_count": null,
   "metadata": {},
   "outputs": [],
   "source": [
    "results.total_scores"
   ]
  },
  {
   "cell_type": "markdown",
   "metadata": {},
   "source": [
    "If you want, you can check if these differences are statistically significant using a t-test:"
   ]
  },
  {
   "cell_type": "code",
   "execution_count": null,
   "metadata": {},
   "outputs": [],
   "source": [
    "results.ttest"
   ]
  },
  {
   "cell_type": "markdown",
   "metadata": {},
   "source": [
    "So the greedy factory manager is better than the do-nothing factory manager getting a total score of 2878 compared with only 367 for the do-nothing factory manager. Moreover, this difference is statistically significant as the p-value is 0.041 < 0.05.\n",
    "\n",
    "Or, let's just find out who was the winner:"
   ]
  },
  {
   "cell_type": "code",
   "execution_count": null,
   "metadata": {},
   "outputs": [],
   "source": [
    "results.winner"
   ]
  },
  {
   "cell_type": "markdown",
   "metadata": {},
   "source": [
    "and what was its to score:"
   ]
  },
  {
   "cell_type": "code",
   "execution_count": null,
   "metadata": {},
   "outputs": [],
   "source": [
    "results.winner_score"
   ]
  },
  {
   "cell_type": "markdown",
   "metadata": {},
   "source": [
    "Now, you completed the development of your factory manager, tested it by running it in worlds and tournaments, what exactly should you do to participate in the SCM league @ ANAC 2019:\n",
    "\n",
    "You need to submit the following items:\n",
    "\n",
    "- Names of all members of the team with their affiliations and email addresses\n",
    "- Either a single python file with the whole implementation of your agent with any supporting code or a zip file with a single folder containing your code. In the later case, you will need to indicate the class name of your factory manager. Any factory manager names are accepted except (Insurance, Bank, MFactoryManager, CFactoryManager).\n",
    "- A 2-pages academic report about your factory manager. Please check the submission website for details about this report.\n",
    "\n",
    "That is it folks!\n",
    "You can now start developing your own factory manager. Have fun."
   ]
  }
 ],
 "metadata": {
  "celltoolbar": "Tags",
  "kernelspec": {
   "display_name": "negmas",
   "language": "python",
   "name": "negmas"
  },
  "language_info": {
   "codemirror_mode": {
    "name": "ipython",
    "version": 3
   },
   "file_extension": ".py",
   "mimetype": "text/x-python",
   "name": "python",
   "nbconvert_exporter": "python",
   "pygments_lexer": "ipython3",
   "version": "3.6.5"
  }
 },
 "nbformat": 4,
 "nbformat_minor": 2
}
