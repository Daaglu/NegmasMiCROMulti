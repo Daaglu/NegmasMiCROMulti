{
 "cells": [
  {
   "cell_type": "markdown",
   "metadata": {},
   "source": [
    "## Develop a factory manager (agent) for the SCM world\n",
    "\n",
    "This tutorial describes how to develop an agent for the SCM world, test it, and submit it to the ANAC 2019 SCM league.\n",
    "\n",
    "The first step is to install negmas\n",
    "\n",
    "```bash\n",
    "pip install negmas\n",
    "```\n",
    "Once you have this library installed, you can start developing your factory manager:"
   ]
  },
  {
   "cell_type": "code",
   "execution_count": 30,
   "metadata": {},
   "outputs": [],
   "source": [
    "from negmas.apps.scml import FactoryManager\n",
    "\n",
    "class MyFactoryManager(FactoryManager):\n",
    "    \"\"\"My factory manager\"\"\""
   ]
  },
  {
   "cell_type": "markdown",
   "metadata": {},
   "source": [
    "Try to make an object of your newly created factory manager. We will fail, do not panic:"
   ]
  },
  {
   "cell_type": "code",
   "execution_count": 31,
   "metadata": {},
   "outputs": [
    {
     "name": "stdout",
     "output_type": "stream",
     "text": [
      "Can't instantiate abstract class FactoryManager with abstract methods on_negotiation_request\n"
     ]
    }
   ],
   "source": [
    "try:\n",
    "    incorrect = FactoryManager()\n",
    "except TypeError as e:\n",
    "    print(e)"
   ]
  },
  {
   "cell_type": "markdown",
   "metadata": {},
   "source": [
    "You are told that you cannot instantiate your newly created class as did not implement the abstract (required) method ```on_negotiation_request```. That is actually the ONLY abstract method you need to implement."
   ]
  },
  {
   "cell_type": "code",
   "execution_count": 32,
   "metadata": {},
   "outputs": [],
   "source": [
    "class MyFactoryManager(FactoryManager):\n",
    "    \"\"\"My factory manager\"\"\"\n",
    "    \n",
    "    def on_negotiation_request(self, cfp: \"CFP\", partner: str):\n",
    "        return None"
   ]
  },
  {
   "cell_type": "markdown",
   "metadata": {},
   "source": [
    "As the [documentation](http://www.yasserm.com/negmas/negmas.apps.scml.html?highlight=on_negotiation_request#negmas.apps.scml.SCMLAgent.on_negotiation_request) states, this function is called whenever your factory manager receives a request from another agent to negotiate. You can either return `None` if you do not want to accept this negotiation or create  a `Negotiator` that represents your agent in it.\n",
    "\n",
    "\n",
    "Your do-nothing agent is almost ready. Let's try it:"
   ]
  },
  {
   "cell_type": "code",
   "execution_count": 33,
   "metadata": {},
   "outputs": [],
   "source": [
    "from negmas.apps.scml.utils import anac2019_world\n",
    "from negmas.apps.scml import GreedyFactoryManager\n",
    "\n",
    "world = anac2019_world(competitors=(MyFactoryManager, GreedyFactoryManager), n_steps=10, n_greedy_per_level=5\n",
    "                      , n_factories_per_level=11, n_intermediate=3\n",
    "                      , default_signing_delay=0, max_storage=1000000\n",
    "                      , max_insurance_premium=100, n_retrials=5)"
   ]
  },
  {
   "cell_type": "markdown",
   "metadata": {},
   "source": [
    "You have now a world with the settings for ANAC 2019 competition. Let's run it"
   ]
  },
  {
   "cell_type": "code",
   "execution_count": 34,
   "metadata": {},
   "outputs": [],
   "source": [
    "world.run()"
   ]
  },
  {
   "cell_type": "markdown",
   "metadata": {},
   "source": [
    "What just happened?"
   ]
  },
  {
   "cell_type": "code",
   "execution_count": 35,
   "metadata": {},
   "outputs": [
    {
     "data": {
      "text/plain": [
       "[greedy_4_19]"
      ]
     },
     "execution_count": 35,
     "metadata": {},
     "output_type": "execute_result"
    }
   ],
   "source": [
    "world.winners"
   ]
  },
  {
   "cell_type": "markdown",
   "metadata": {},
   "source": [
    "The property `stats` in `World` gives you several statistics about the world for every time-step of the simulation."
   ]
  },
  {
   "cell_type": "markdown",
   "metadata": {},
   "source": [
    "Let's try to run a tournament with this do-nothing agent against the built-in greedy agent:"
   ]
  },
  {
   "cell_type": "code",
   "execution_count": 36,
   "metadata": {},
   "outputs": [
    {
     "ename": "TypeError",
     "evalue": "'tuple' object does not support item assignment",
     "output_type": "error",
     "traceback": [
      "\u001b[0;31m---------------------------------------------------------------------------\u001b[0m",
      "\u001b[0;31mTypeError\u001b[0m                                 Traceback (most recent call last)",
      "\u001b[0;32m<ipython-input-36-47b7de9ab07d>\u001b[0m in \u001b[0;36m<module>\u001b[0;34m\u001b[0m\n\u001b[1;32m      2\u001b[0m \u001b[0;34m\u001b[0m\u001b[0m\n\u001b[1;32m      3\u001b[0m results = anac2019_tournament(competitors=(MyFactoryManager, GreedyFactoryManager)\n\u001b[0;32m----> 4\u001b[0;31m                               , n_runs=4, n_steps=10, parallelism='serial')\n\u001b[0m",
      "\u001b[0;32m~/code/projects/negmas/negmas/apps/scml/utils.py\u001b[0m in \u001b[0;36manac2019_tournament\u001b[0;34m(competitors, randomize, n_runs, tournament_path, total_timeout, parallelism, scheduler_ip, scheduler_port, n_intermediate, n_miners, n_factories_per_level, n_consumers, n_lines_per_factory, guaranteed_contracts, use_consumer, max_insurance_premium, n_retrials, negotiator_type, transportation_delay, default_signing_delay, max_storage, consumption_horizon, consumption, negotiation_speed, neg_time_limit, neg_n_steps, n_steps, time_limit, n_greedy_per_level, name)\u001b[0m\n\u001b[1;32m    255\u001b[0m     \u001b[0;32mif\u001b[0m \u001b[0mrandomize\u001b[0m\u001b[0;34m:\u001b[0m\u001b[0;34m\u001b[0m\u001b[0m\n\u001b[1;32m    256\u001b[0m         \u001b[0;32mfor\u001b[0m \u001b[0mi\u001b[0m \u001b[0;32min\u001b[0m \u001b[0mrange\u001b[0m\u001b[0;34m(\u001b[0m\u001b[0mn_runs\u001b[0m\u001b[0;34m)\u001b[0m\u001b[0;34m:\u001b[0m\u001b[0;34m\u001b[0m\u001b[0m\n\u001b[0;32m--> 257\u001b[0;31m             \u001b[0mshuffle\u001b[0m\u001b[0;34m(\u001b[0m\u001b[0mcompetitors\u001b[0m\u001b[0;34m)\u001b[0m\u001b[0;34m\u001b[0m\u001b[0m\n\u001b[0m\u001b[1;32m    258\u001b[0m             \u001b[0mworld_name\u001b[0m \u001b[0;34m=\u001b[0m \u001b[0munique_name\u001b[0m\u001b[0;34m(\u001b[0m\u001b[0;34mf'{i:05}'\u001b[0m\u001b[0;34m,\u001b[0m \u001b[0madd_time\u001b[0m\u001b[0;34m=\u001b[0m\u001b[0;32mTrue\u001b[0m\u001b[0;34m,\u001b[0m \u001b[0mrand_digits\u001b[0m\u001b[0;34m=\u001b[0m\u001b[0;36m4\u001b[0m\u001b[0;34m)\u001b[0m\u001b[0;34m\u001b[0m\u001b[0m\n\u001b[1;32m    259\u001b[0m             \u001b[0mdir_name\u001b[0m \u001b[0;34m=\u001b[0m \u001b[0mtournament_path\u001b[0m \u001b[0;34m/\u001b[0m \u001b[0mworld_name\u001b[0m\u001b[0;34m\u001b[0m\u001b[0m\n",
      "\u001b[0;32m~/.local/share/virtualenvs/negmas-bNSbQ2CL/lib/python3.6/random.py\u001b[0m in \u001b[0;36mshuffle\u001b[0;34m(self, x, random)\u001b[0m\n\u001b[1;32m    273\u001b[0m                 \u001b[0;31m# pick an element in x[:i+1] with which to exchange x[i]\u001b[0m\u001b[0;34m\u001b[0m\u001b[0;34m\u001b[0m\u001b[0m\n\u001b[1;32m    274\u001b[0m                 \u001b[0mj\u001b[0m \u001b[0;34m=\u001b[0m \u001b[0mrandbelow\u001b[0m\u001b[0;34m(\u001b[0m\u001b[0mi\u001b[0m\u001b[0;34m+\u001b[0m\u001b[0;36m1\u001b[0m\u001b[0;34m)\u001b[0m\u001b[0;34m\u001b[0m\u001b[0m\n\u001b[0;32m--> 275\u001b[0;31m                 \u001b[0mx\u001b[0m\u001b[0;34m[\u001b[0m\u001b[0mi\u001b[0m\u001b[0;34m]\u001b[0m\u001b[0;34m,\u001b[0m \u001b[0mx\u001b[0m\u001b[0;34m[\u001b[0m\u001b[0mj\u001b[0m\u001b[0;34m]\u001b[0m \u001b[0;34m=\u001b[0m \u001b[0mx\u001b[0m\u001b[0;34m[\u001b[0m\u001b[0mj\u001b[0m\u001b[0;34m]\u001b[0m\u001b[0;34m,\u001b[0m \u001b[0mx\u001b[0m\u001b[0;34m[\u001b[0m\u001b[0mi\u001b[0m\u001b[0;34m]\u001b[0m\u001b[0;34m\u001b[0m\u001b[0m\n\u001b[0m\u001b[1;32m    276\u001b[0m         \u001b[0;32melse\u001b[0m\u001b[0;34m:\u001b[0m\u001b[0;34m\u001b[0m\u001b[0m\n\u001b[1;32m    277\u001b[0m             \u001b[0m_int\u001b[0m \u001b[0;34m=\u001b[0m \u001b[0mint\u001b[0m\u001b[0;34m\u001b[0m\u001b[0m\n",
      "\u001b[0;31mTypeError\u001b[0m: 'tuple' object does not support item assignment"
     ]
    }
   ],
   "source": [
    "from negmas.apps.scml.utils import anac2019_tournament\n",
    "\n",
    "results = anac2019_tournament(competitors=(MyFactoryManager, GreedyFactoryManager)\n",
    "                              , n_runs=4, n_steps=10, parallelism='serial')"
   ]
  },
  {
   "cell_type": "markdown",
   "metadata": {},
   "source": [
    "You can see the scores that each individual factory manager got:"
   ]
  },
  {
   "cell_type": "code",
   "execution_count": null,
   "metadata": {},
   "outputs": [],
   "source": [
    "results.scores"
   ]
  },
  {
   "cell_type": "markdown",
   "metadata": {},
   "source": [
    "You can also check the total scores for each factory manager type:"
   ]
  },
  {
   "cell_type": "code",
   "execution_count": null,
   "metadata": {},
   "outputs": [],
   "source": [
    "results.total_scores"
   ]
  },
  {
   "cell_type": "markdown",
   "metadata": {},
   "source": [
    "If you want, you can check if these differences are statistically significant using a t-test:"
   ]
  },
  {
   "cell_type": "code",
   "execution_count": null,
   "metadata": {},
   "outputs": [],
   "source": [
    "results.ttest"
   ]
  },
  {
   "cell_type": "markdown",
   "metadata": {},
   "source": [
    "So the greedy factory manager is better than the do-nothing factory manager getting a total score of 2878 compared with only 367 for the do-nothing factory manager. Moreover, this difference is statistically significant as the p-value is 0.041 < 0.05.\n",
    "\n",
    "Or, let's just find out who was the winner:"
   ]
  },
  {
   "cell_type": "code",
   "execution_count": null,
   "metadata": {},
   "outputs": [],
   "source": [
    "results.winner"
   ]
  },
  {
   "cell_type": "markdown",
   "metadata": {},
   "source": [
    "and what was its to score:"
   ]
  },
  {
   "cell_type": "code",
   "execution_count": null,
   "metadata": {},
   "outputs": [],
   "source": [
    "results.winner_score"
   ]
  },
  {
   "cell_type": "markdown",
   "metadata": {},
   "source": [
    "Now, you completed the development of your factory manager, tested it by running it in worlds and tournaments, what exactly should you do to participate in the SCM league @ ANAC 2019:\n",
    "\n",
    "You need to submit the following items:\n",
    "\n",
    "- Names of all members of the team with their affiliations and email addresses\n",
    "- Either a single python file with the whole implementation of your agent with any supporting code or a zip file with a single folder containing your code. In the later case, you will need to indicate the class name of your factory manager. Any factory manager names are accepted except (Insurance, Bank, MFactoryManager, CFactoryManager).\n",
    "- A 2-pages academic report about your factory manager. Please check the submission website for details about this report.\n",
    "\n",
    "That is it folks!\n",
    "You can now start developing your own factory manager. Have fun."
   ]
  },
  {
   "cell_type": "code",
   "execution_count": null,
   "metadata": {},
   "outputs": [],
   "source": []
  }
 ],
 "metadata": {
  "kernelspec": {
   "display_name": "negmas",
   "language": "python",
   "name": "negmas"
  },
  "language_info": {
   "codemirror_mode": {
    "name": "ipython",
    "version": 3
   },
   "file_extension": ".py",
   "mimetype": "text/x-python",
   "name": "python",
   "nbconvert_exporter": "python",
   "pygments_lexer": "ipython3",
   "version": "3.6.5"
  }
 },
 "nbformat": 4,
 "nbformat_minor": 2
}
