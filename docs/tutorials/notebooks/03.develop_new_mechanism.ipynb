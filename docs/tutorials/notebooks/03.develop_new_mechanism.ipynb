{
 "cells": [
  {
   "cell_type": "code",
   "execution_count": 1,
   "metadata": {
    "pycharm": {
     "is_executing": false,
     "name": "#%% python\n"
    },
    "tags": [
     "remove_cell"
    ]
   },
   "outputs": [],
   "source": [
    "from abc import abstractmethod, ABC\n",
    "from dataclasses import dataclass, field\n",
    "from random import random\n",
    "from negmas import Mechanism, MechanismRoundResult, Negotiator, AspirationMixin\n",
    "from negmas import MechanismState\n",
    "from negmas import AgentMechanismInterface\n",
    "from negmas import outcome_as_tuple\n",
    "from typing import Callable, Tuple, Optional, List, Any, Dict\n",
    "from negmas import Outcome, Issue, UtilityFunction, LinearUtilityFunction, ExpDiscountedUFun\n",
    "import numpy as np\n",
    "from scipy.optimize import minimize\n",
    "import matplotlib.pyplot as plt\n",
    "import seaborn as sns"
   ]
  },
  {
   "cell_type": "markdown",
   "metadata": {},
   "source": [
    "## Develop a new mechanism (protocol)\n",
    "\n",
    "Developing a new mechanism for negmas is as easy as overriding a single method. In most cases though, a base class for \n",
    "negotiators compatible with this protocol needs to be created.\n",
    "\n",
    "The algorithm for creating a new mechanism in `NegMAS` is simple:\n",
    "\n",
    "1. Create a new `Mechanism` class and override the `round()` method to implement a single round of your protocol. \n",
    "   Optionally override the `__init__` function to provide a constructor to initialize your mechanism. Define any\n",
    "   `requirements` of your mechanism that must be satisfied by negotiators using `add_requirements()` during consturciton\n",
    "    (i.e. in the `__init__` method).\n",
    "2. Create a new `Negotiator` class that has `abstractmethod(s)` for any methods called by your custom mechanism class\n",
    "   (usually in the `round()` method). This will be the base class of all negotiators compatible with this new \n",
    "   mechanism. Set any *capabilities* for this new negotiator base class in its `__init__` method using \n",
    "   `add_capabilities()` \n",
    "3. Optionally create a new `MechanismState` `dataclass` with any extra state information that the mechanism will pass to\n",
    "   negotiators and override the `extra_state()` method of your mechanism class to return a dict representation of this\n",
    "   extra state (you will see an example later in this tutorial). Moreover, you will need to change the `state_factory` \n",
    "   argument passed to the `Mechechanism` constructor to use this newly created state type. This step is optional \n",
    "   and is only needed if extra-state needs to be passed to negotiators through the `state` method. It t is recommended \n",
    "   to keep all variable publicly accessible information of the mechanism in its state variable. This way, the history of\n",
    "   the mechanism state will be accessible through the `history` property after the mechanism run.\n",
    "\n",
    "### Nash Bargaining Game (Stateless Mechanism)\n",
    "Let's start by developing one of the earliest negotiation protocols every proposed: **Nash Bargaining Game (1950)** .\n",
    "\n",
    "The Nash bargaining game is a single-step full-information bilateral negotiation with $\\Omega = [0, 1]^2$ and two \n",
    " utility functions ($\\tilde u_1, \\tilde u_2$) such that:\n",
    " - A (usually convex) feasible set of agreements $F$. A common example is to define $F$ as all the outcomes for which \n",
    "   the total utility received by negotiators is less than or equal to one:\n",
    "   \n",
    "   $$F = \\left\\{(\\omega_1, \\omega_2) | \\tilde u_2(\\omega_2) + \\tilde u_1(\\omega_1) \\le 1\\right\\}$$.\n",
    "   \n",
    " - A disagreement point $d \\equiv  \\tilde u_1(\\phi) + \\tilde u_2(\\phi) \\in \\Re^2$ which is the utility value received by the two players in case of disagreement (\n",
    "   reserved values) and $\\phi$ represents the disagreement.\n",
    " "
   ]
  },
  {
   "cell_type": "code",
   "execution_count": 2,
   "metadata": {
    "pycharm": {
     "is_executing": false,
     "name": "#%% python\n"
    }
   },
   "outputs": [],
   "source": [
    "class NashBargainingGame(Mechanism):\n",
    "    \"\"\"A mechanism representing the nash bargaining game\"\"\"\n",
    "    \n",
    "    def __init__(self, **kwargs):\n",
    "        kwargs.update(dict(n_steps=1, max_n_agents=2, dynamic_entry=False))\n",
    "        super().__init__(**kwargs)\n",
    "        self.add_requirements(dict(propose_for_self = True))   \n",
    "        self.ufuns: List[UtilityFunction] = []\n",
    "    \n",
    "    def add(\n",
    "        self,\n",
    "        negotiator: \"Negotiator\",\n",
    "        *,\n",
    "        ufun: Optional[\"UtilityFunction\"] = None,        \n",
    "        **kwargs,\n",
    "    ) -> Optional[bool]:\n",
    "        added = super().add(negotiator, ufun=ufun, role=None, **kwargs)\n",
    "        if added:\n",
    "            self.ufuns.append(self.negotiators[-1].utility_function)\n",
    "            \n",
    "    def is_feasible(self, outcome: Tuple[float]):\n",
    "        \"\"\"Tests feasibility of outcomes.\n",
    "        \n",
    "        The default implementation tests that the of all utilities assigned to all negotiators is less than 1.0.\n",
    "        \"\"\"        \n",
    "        return sum(u(outcome) for u in self.ufuns) <= (1.0 + 1e-3)\n",
    "    \n",
    "    def round(self)-> MechanismRoundResult:\n",
    "        \"\"\"One round of the mechanism\"\"\"\n",
    "        if len(self.negotiators) != 2:\n",
    "            return MechanismRoundResult(error=True, \n",
    "                                        error_details=f\"Got {len(self.negotiators)} negotiators!!\", \n",
    "                                        broken=True)\n",
    "        outcome = tuple(n.propose_for_self(self.ufuns, i) for i, n in enumerate(self.negotiators))\n",
    "        if self.is_feasible(outcome):\n",
    "            return MechanismRoundResult(agreement=outcome)\n",
    "        return MechanismRoundResult()"
   ]
  },
  {
   "cell_type": "markdown",
   "metadata": {},
   "source": [
    "The implementation is straight forward. We need to define what a round of the algorithm does (`round()` ). In this\n",
    "case we used `is_feasible()` to distinguish feasible and infeasible outcomes.\n",
    "\n",
    "We need now to develop a base class for negotiators compatible with this mechanism."
   ]
  },
  {
   "cell_type": "code",
   "execution_count": 3,
   "metadata": {
    "pycharm": {
     "is_executing": false,
     "name": "#%%\n"
    }
   },
   "outputs": [],
   "source": [
    "class NashBargainingNegotiator(Negotiator, ABC):\n",
    "    \"\"\"Base class of all negotiators capable of negotiating in the nash bargaining game\"\"\"\n",
    "    \n",
    "    def __init__(self, *args, **kwargs):\n",
    "        super().__init__(*args, **kwargs)\n",
    "        self.add_capabilities(dict(propose_for_self=True))\n",
    "    \n",
    "    @abstractmethod\n",
    "    def propose_for_self(self, ufuns: List[UtilityFunction], my_indx: int) -> float:   \n",
    "        \"\"\"Propose some outcome which is just a real number\"\"\"\n",
    "        "
   ]
  },
  {
   "cell_type": "markdown",
   "metadata": {},
   "source": [
    "Note that any agreement with utilities that sum to the maximum possible value within the feasible space is a nash \n",
    "equilibrium to this game and is pareto-efficient.\n",
    "\n",
    "Based on the axioms used to represent rationality, there are three widely known equilibria for the Nash bargaining game:\n",
    "\n",
    "- Nash Point (1950): The point at which the product of surplus utility (above reservation value) of negotiators is maximized\n",
    " \n",
    "$$\\text{argmax}_{\\omega_1, \\omega_2} \\prod_{i=1}^2\\left(\\tilde u_i(\\omega_{i}) - \\tilde u_i(\\phi)\\right)$$\n",
    "\n",
    "- Kalai-Smorodinsky Point (1975): The pareto outcome with equal ratios of achieved  surplus utility and  maximum feasible \n",
    "surplus utility\n",
    "\n",
    "$$\\text{argmax}_{\\omega_1, \\omega_2 \\in F}\\left(\\omega_1+\\omega_2\\right) \n",
    "\\text{ s.t. }\n",
    "\\left(\\frac{\\tilde u_1(\\omega_1)-\\tilde u_1(\\phi)}{\\tilde u_2(\\omega_2)-\\tilde u_2(\\phi)} = \n",
    "\\frac{\\max_{v \\in F} \\left(\\tilde u_1(v)\\right)-\\tilde u_1(\\phi)}{\\max_{v \\in F} \n",
    "\\left(\\tilde u_2(v)\\right)-\\tilde u_2(\\phi)}\\right)$$\n",
    "\n",
    "- Kalai Point (1977): The pareto outcome maximizing the utility for the unfortunate player. Defining $P$ as the pareto\n",
    "front,\n",
    "\n",
    "$$\\text{argmax}_{\\omega_1, \\omega_2 \\in P} \\min_{i \\in \\{1,2\\}}\\left(\\tilde u_i(\\omega_{i}) - \\tilde u_i(\\phi)\\right)$$\n",
    "\n",
    "We will not implement a negotiator that plays he nash-point strategy with no prior knowledge of the utility function\n",
    "structure (i.e. it works for nonlinear nonconvex utility functions)."
   ]
  },
  {
   "cell_type": "code",
   "execution_count": 4,
   "metadata": {
    "pycharm": {
     "is_executing": false,
     "name": "#%%\n"
    }
   },
   "outputs": [],
   "source": [
    "class NashNegotiator(NashBargainingNegotiator):\n",
    "    \"\"\"Implements Nash solution to the bargaining game\"\"\"\n",
    "    def propose_for_self(self, ufuns: List[UtilityFunction], my_indx: int)-> float:\n",
    "        objective = lambda f0: - (ufuns[0]((f0, 1.0-f0)) - ufuns[0].reserved_value) * \\\n",
    "                                 (ufuns[1]((f0, 1.0-f0)) - ufuns[1].reserved_value)\n",
    "        while True:            \n",
    "            result = minimize(objective, x0=[random()], bounds=[(0.0, 1.0)])\n",
    "            if result.success:\n",
    "                break\n",
    "        return float(result.x) if my_indx == 0 else 1.0 - float(result.x)"
   ]
  },
  {
   "cell_type": "markdown",
   "metadata": {},
   "source": [
    "Now let's try our brand new mechanism and negotiator"
   ]
  },
  {
   "cell_type": "code",
   "execution_count": 5,
   "metadata": {
    "pycharm": {
     "is_executing": false,
     "name": "#%%\n"
    }
   },
   "outputs": [
    {
     "name": "stdout",
     "output_type": "stream",
     "text": [
      "Agreement: (0.5000000029448386, 0.5000000063141529)\n"
     ]
    }
   ],
   "source": [
    "m = NashBargainingGame()\n",
    "u1 = LinearUtilityFunction([1, 0], reserved_value=0.0)\n",
    "u2 = LinearUtilityFunction([0, 1], reserved_value=0.0)\n",
    "m.add(NashNegotiator(ufun=u1, name=\"a1\"))\n",
    "m.add(NashNegotiator(ufun=u2, name=\"a2\"))\n",
    "result = m.run()\n",
    "print(f\"Agreement: {result.agreement}\")"
   ]
  },
  {
   "cell_type": "markdown",
   "metadata": {
    "pycharm": {
     "is_executing": false,
     "name": "#%% md\n"
    }
   },
   "source": [
    "As expected, the two negotiators agreed on the expected nash point (0.5, 0.5) from the first trial.\n",
    "\n",
    "It is possible to see what happens at different other conditions. For example, how does the reservation value affect \n",
    "the outcome: "
   ]
  },
  {
   "cell_type": "code",
   "execution_count": 6,
   "metadata": {
    "pycharm": {
     "is_executing": false,
     "name": "#%%\n"
    }
   },
   "outputs": [
    {
     "data": {
      "image/png": "[encoded data removed]",
      "text/plain": [
       "<Figure size 432x288 with 1 Axes>"
      ]
     },
     "metadata": {
      "needs_background": "light"
     },
     "output_type": "display_data"
    },
    {
     "data": {
      "image/png": "[encoded data removed]",
      "text/plain": [
       "<Figure size 432x288 with 1 Axes>"
      ]
     },
     "metadata": {
      "needs_background": "light"
     },
     "output_type": "display_data"
    }
   ],
   "source": [
    "u1values, u2values = np.zeros(101), np.zeros(101)\n",
    "a1values, a2values = np.zeros(101), np.zeros(101)\n",
    "values = np.linspace(0.0, 1.0, 101, endpoint=True)\n",
    "u2 = LinearUtilityFunction([0, 1], reserved_value=0.0)\n",
    "for i, r in enumerate(values):\n",
    "    m = NashBargainingGame()\n",
    "    u1 = LinearUtilityFunction([1, 0], reserved_value=r)    \n",
    "    m.add(NashNegotiator(ufun=u1, name=\"a1\"))\n",
    "    m.add(NashNegotiator(ufun=u2, name=\"a2\"))\n",
    "    result = m.run()    \n",
    "    u1values[i] =u1(result.agreement)\n",
    "    u2values[i] =u2(result.agreement)\n",
    "    a1values[i], a2values[i] = result.agreement\n",
    "plt.subplot(211)\n",
    "plt.plot(values, u1values, label=\"First negotiator\")\n",
    "plt.plot(values, u2values, label=\"Second negotiator\")\n",
    "plt.plot(values, u1values+u2values, label=\"Welfare\")\n",
    "plt.ylabel(\"Utility received\")\n",
    "plt.legend()\n",
    "plt.xlabel(\"Reservation value for first negotiator\")\n",
    "plt.show()\n",
    "\n",
    "plt.subplot(212)\n",
    "plt.plot(values, a1values, label=\"First negotiator\")\n",
    "plt.plot(values, a2values, label=\"Second negotiator\")\n",
    "plt.ylabel(\"Agreement Reached\")\n",
    "plt.legend()\n",
    "plt.xlabel(\"Slope value for first negotiator\")\n",
    "plt.show()"
   ]
  },
  {
   "cell_type": "markdown",
   "metadata": {
    "pycharm": {
     "name": "#%% md\n"
    }
   },
   "source": [
    " We can see that increasing the reservation value of a negotiator increases the utility it receives by the end of the \n",
    " negotiation proportionally.  \n",
    "\n",
    "What happens if the utility value of a negotiator had a different slope:"
   ]
  },
  {
   "cell_type": "code",
   "execution_count": 7,
   "metadata": {
    "pycharm": {
     "is_executing": false,
     "name": "#%%\n"
    }
   },
   "outputs": [
    {
     "data": {
      "image/png": "[encoded data removed]",
      "text/plain": [
       "<Figure size 432x288 with 1 Axes>"
      ]
     },
     "metadata": {
      "needs_background": "light"
     },
     "output_type": "display_data"
    },
    {
     "data": {
      "image/png": "[encoded data removed]",
      "text/plain": [
       "<Figure size 432x288 with 1 Axes>"
      ]
     },
     "metadata": {
      "needs_background": "light"
     },
     "output_type": "display_data"
    }
   ],
   "source": [
    "u1values, u2values = np.zeros(101), np.zeros(101) \n",
    "a1values, a2values = np.zeros(101), np.zeros(101)\n",
    "slopes = np.linspace(0.0, 1.0, 101, endpoint=True)\n",
    "u2 = LinearUtilityFunction([0, 1], reserved_value=0.0)\n",
    "for i, s in enumerate(slopes):\n",
    "    m = NashBargainingGame()\n",
    "    u1 = LinearUtilityFunction([s, 0.0], reserved_value=0.0)\n",
    "    m.add(NashNegotiator(ufun=u1, name=\"a1\"))\n",
    "    m.add(NashNegotiator(ufun=u2, name=\"a2\"))\n",
    "    result = m.run()\n",
    "    u1values[i], u2values[i] =u1(result.agreement), u2(result.agreement)\n",
    "    a1values[i], a2values[i] = result.agreement\n",
    "    \n",
    "plt.subplot(211)\n",
    "plt.plot(slopes, u1values, label=\"First negotiator\")\n",
    "plt.plot(slopes, u2values, label=\"Second negotiator\")\n",
    "plt.plot(slopes, u1values+u2values, label=\"Welfare\")\n",
    "plt.ylabel(\"Utility received\")\n",
    "plt.legend()\n",
    "plt.xlabel(\"Slope value for first negotiator\")\n",
    "plt.show()\n",
    "\n",
    "plt.subplot(212)\n",
    "plt.plot(slopes, a1values, label=\"First negotiator\")\n",
    "plt.plot(slopes, a2values, label=\"Second negotiator\")\n",
    "plt.ylabel(\"Agreement Reached\")\n",
    "plt.legend()\n",
    "plt.xlabel(\"Slope value for first negotiator\")\n",
    "plt.show()"
   ]
  },
  {
   "cell_type": "markdown",
   "metadata": {
    "pycharm": {
     "is_executing": false,
     "name": "#%% md\n"
    }
   },
   "source": [
    "Notice that in this case, the both negotiators always get their maximum possible utility which leads to a linear increas in \n",
    "welfare with slope. There is a small exception though at slope zero.  Try running the last simulation\n",
    "several times. Does the peculiar result at slope zero persist? Does it lead to the same welfare every time? \n",
    "Can you explain it?\n",
    "\n",
    "## Rubinstein Bargaining Protocol (Stateful Mechanism)\n",
    "\n",
    "Rubinstein provided one of the earliest and most widely cited results for multi-round bilateral negotiation.\n",
    "\n",
    "In this protocol, two negotiators are again trying to find an agreement each maximizing its own utility. This is a full\n",
    "information game in which the utility function of both agents is common knowledge. Moreover, there is some discount \n",
    "mechanism that reduces the utility of any potential agreement over time which is different for the two negotiators but \n",
    "is also known. In this tutorial we will focus on the case with exponential discounting (with with $t$  representing \n",
    "round number and $\\delta_i$ is the discount factor for negotiator $i$). Throughout this section we will use superscripts to indicate round number. Moreover, we will focus on the case where the\n",
    "initial utility of an agreement is the value assigned to the agent in that agreement:\n",
    "\n",
    "$$\\tilde u_i^t(\\omega) = \\delta_i^t \\omega_i$$\n",
    "\n",
    "We can start by designing the `MechanismState` class corresponding to this information."
   ]
  },
  {
   "cell_type": "code",
   "execution_count": 8,
   "metadata": {
    "pycharm": {
     "is_executing": false,
     "name": "#%%\n"
    }
   },
   "outputs": [],
   "source": [
    "@dataclass\n",
    "class RubinsteinMechanismState(MechanismState):\n",
    "    discounts: Tuple[float, float] = (1.0, 1.0)"
   ]
  },
  {
   "cell_type": "markdown",
   "metadata": {
    "pycharm": {
     "name": "#%% md\n"
    }
   },
   "source": [
    "We can then define the mechanism class itself:\n"
   ]
  },
  {
   "cell_type": "code",
   "execution_count": 9,
   "metadata": {
    "pycharm": {
     "is_executing": false,
     "name": "#%%\n"
    }
   },
   "outputs": [],
   "source": [
    "class RubinsteinMechanism(Mechanism):\n",
    "    \"\"\"Simplified Rubinstein's Mechanism with Exponential discounting\"\"\"\n",
    "    def __init__(self, extended=False, **kwargs):\n",
    "        kwargs.update(dict(issues=[Issue(values=(0.0, 1.0), name=\"first\")\n",
    "                                   , Issue(values=(0.0, 1.0), name=\"second\")],\n",
    "                                   max_n_agents=2, dynamic_entry=False, \n",
    "                           state_factory=RubinsteinMechanismState,\n",
    "                          keep_issue_names=False))\n",
    "        super().__init__(**kwargs)\n",
    "        self.add_requirements(dict(propose=True, set_index=True))   \n",
    "        self.discounts: List[UtilityFunction] = []\n",
    "        self.proposals = []\n",
    "        self.extended = extended\n",
    "    \n",
    "    def extra_state(self) -> Optional[Dict[str, Any]]:\n",
    "        return dict(discounts=self.discounts)\n",
    "    \n",
    "    def add(\n",
    "        self,\n",
    "        negotiator: \"Negotiator\",\n",
    "        *,\n",
    "        discount: float =0.95,        \n",
    "        **kwargs,\n",
    "    ) -> Optional[bool]:\n",
    "        weights = [1, 0] if len(self.negotiators) == 0 else [0, 1] \n",
    "        ufun = ExpDiscountedUFun(LinearUtilityFunction(weights), discount=discount, ami=self.ami)\n",
    "        added = super().add(negotiator, ufun=ufun, role=None, **kwargs)\n",
    "        if added:               \n",
    "            self.discounts.append(discount)\n",
    "                \n",
    "    def round(self)-> MechanismRoundResult:\n",
    "        \"\"\"One round of the mechanism\"\"\"\n",
    "        if self.current_step == 0:\n",
    "            if len(self.negotiators) != 2:\n",
    "                return MechanismRoundResult(error=True, \n",
    "                                        error_details=f\"Got {len(self.negotiators)} negotiators!!\", \n",
    "                                        broken=True)\n",
    "            for i, n in enumerate(self.negotiators):\n",
    "                n.set_index(i)\n",
    "        outcomes = list(n.propose(self.state) for n in self.negotiators)\n",
    "        self.proposals.append(outcomes)\n",
    "        if any(o is None for o in outcomes):\n",
    "            return MechanismRoundResult(broken=True)\n",
    "        if sum(outcomes[0]) <= 1 + 1e-3:\n",
    "            if self.extended:\n",
    "                if outcomes[0][0] <= outcomes[1][0] + 1e-5 and outcomes[1][1] <= outcomes[0][1] + 1e-5:\n",
    "                    return MechanismRoundResult(agreement=(min(outcomes[0][0], outcomes[1][0]),\n",
    "                                                   min(outcomes[0][1], outcomes[1][1])))\n",
    "            elif max(abs(outcomes[0][i] - outcomes[1][i]) for i in range(2)) < 1e-3:\n",
    "                return MechanismRoundResult(agreement=tuple(0.5 *(outcomes[0][i]+outcomes[1][i]) \n",
    "                                                            for i in range(2)))\n",
    "                                                    \n",
    "        return MechanismRoundResult()\n",
    "    "
   ]
  },
  {
   "cell_type": "markdown",
   "metadata": {
    "pycharm": {
     "name": "#%% md\n"
    }
   },
   "source": [
    "The mechanism is very similar to the Nash Bargaining Game with few modifications:\n",
    "\n",
    "1. The constructor passes the `RubnisteinMechanismState` as the `state_factory`. We also create explicit issues for the \n",
    "   negotiation. The number of steps is not limited to $1$. Note that we define two requirements for any negotiator that \n",
    "   wants to engage in this protocol.\n",
    "1. The `add()` method now creates the utility function for the negotiator following the rules of the game. Each\n",
    "   negotiator receives an exponentially discounted utility function of the portion it receives from the pie.\n",
    "1. We override `extra_state` to provide the `discounts` values to the state factory.   \n",
    "1. `propose()` in the negotiators is expected to receive a state of type `RubinsteinMechanismState` .\n",
    "1. Each round all negotiators propose outcomes and the negotiation terminates with success only if both proposals are\n",
    "   feasible (sum to no more than 1.0) and equal (appraximately)\n",
    "\n",
    "We can now develop the base negotiator type for this mechanism:"
   ]
  },
  {
   "cell_type": "code",
   "execution_count": 10,
   "metadata": {
    "pycharm": {
     "is_executing": false,
     "name": "#%%\n"
    }
   },
   "outputs": [],
   "source": [
    "class RubinsteinNegotiator(Negotiator):\n",
    "    \n",
    "    def __init__(self, *args, **kwargs):\n",
    "        super().__init__(*args, **kwargs)\n",
    "        self.add_capabilities(dict(propose=True, set_index=True))\n",
    "        self.my_index = -1\n",
    "    \n",
    "    def set_index(self, indx: i) -> None:\n",
    "        self.my_index = indx\n",
    "        \n",
    "    @abstractmethod\n",
    "    def propose(self, state: RubinsteinMechanismState)  -> Outcome:\n",
    "        \"\"\"Proposes an outcome which is a tuple of two numbers between zero and one\"\"\""
   ]
  },
  {
   "cell_type": "markdown",
   "metadata": {
    "pycharm": {
     "name": "#%% md\n"
    }
   },
   "source": [
    "The base negotiator here implements `set_index` so that specific negotiators need not bother about it. It defines a single abstract method to be overriden by any compatible negotiator.\n",
    "\n",
    "We will first define a utility function to plot what happens in a negotiation\n"
   ]
  },
  {
   "cell_type": "code",
   "execution_count": 11,
   "metadata": {},
   "outputs": [],
   "source": [
    "def plot_a_run(mechanism: RubinsteinMechanism) -> None:\n",
    "    result = mechanism.state\n",
    "    x = np.linspace(0.0, 1.0, 101, endpoint=True)\n",
    "    first = np.array([_[0] for _ in mechanism.proposals])\n",
    "    second = np.array([_[1] for _ in mechanism.proposals])\n",
    "    plt.plot(x, 1-x, color=\"gray\", label=\"Pareto-front\")\n",
    "    plt.xlabel(\"Agent 1's utility\")\n",
    "    plt.ylabel(\"Agent 2's utility\")\n",
    "    plt.scatter(first[:, 0], first[:, 1], marker=\"x\", color=\"green\", label=\"Proposals from 1\")\n",
    "    plt.scatter(second[:, 0], second[:, 1], marker=\"+\", color=\"blue\", label=\"Proposals from 2\")\n",
    "    if result.agreement is not None:\n",
    "        plt.scatter([result.agreement[0]], [result.agreement[1]], marker=\"o\", color=\"red\", label=\"Agreement\")\n",
    "    plt.legend()\n",
    "    plt.show()"
   ]
  },
  {
   "cell_type": "markdown",
   "metadata": {},
   "source": [
    "Let's implement a random negotiator that ends the negotiation if it finds that it is impossible to get a positive \n",
    "utility anymore (due to discounting) and otherwise returns a random apportionment of the pie."
   ]
  },
  {
   "cell_type": "code",
   "execution_count": 12,
   "metadata": {
    "pycharm": {
     "is_executing": false,
     "name": "#%%\n"
    }
   },
   "outputs": [],
   "source": [
    "class RandomRubinsteinNegotiator(RubinsteinNegotiator):\n",
    "\n",
    "    def propose(self, state: RubinsteinMechanismState)-> Outcome:\n",
    "        if self.utility_function((1.0, 1.0)) < 0.0:\n",
    "            return None\n",
    "        r = random()\n",
    "        return r, 1 - r"
   ]
  },
  {
   "cell_type": "markdown",
   "metadata": {
    "pycharm": {
     "name": "#%% md\n"
    }
   },
   "source": [
    "Now we can run negotiations using our new protocol and negotiator:"
   ]
  },
  {
   "cell_type": "code",
   "execution_count": 13,
   "metadata": {
    "pycharm": {
     "is_executing": false,
     "name": "#%%\n"
    }
   },
   "outputs": [
    {
     "name": "stdout",
     "output_type": "stream",
     "text": [
      "Agreed to: (0.4017916167675054, 0.5982083832324946) after 503 steps\n"
     ]
    },
    {
     "data": {
      "image/png": "[encoded data removed]",
      "text/plain": [
       "<Figure size 432x288 with 1 Axes>"
      ]
     },
     "metadata": {
      "needs_background": "light"
     },
     "output_type": "display_data"
    }
   ],
   "source": [
    "mechanism = RubinsteinMechanism(extended=False)\n",
    "mechanism.add(RandomRubinsteinNegotiator(), discount=0.75)\n",
    "mechanism.add(RandomRubinsteinNegotiator(), discount=0.75)\n",
    "print(f\"Agreed to: {mechanism.run().agreement} after {mechanism.current_step} steps\")\n",
    "plot_a_run(mechanism)"
   ]
  },
  {
   "cell_type": "markdown",
   "metadata": {
    "pycharm": {
     "name": "#%% md\n"
    }
   },
   "source": [
    "Rubinstein showed in 1982 that there is a single perfect game equilibrium  of single round that takes the form:\n",
    "\n",
    "$$\\left(\\frac{1-\\delta_2}{1-\\delta_1\\delta_2}, \\frac{\\delta_2\\left(1-\\delta_1\\right)}{1-\\delta_1\\delta_2}\\right)$$\n",
    "\n",
    "We can implement the optimal negotiator for this mechanism as follows:"
   ]
  },
  {
   "cell_type": "code",
   "execution_count": 14,
   "metadata": {
    "pycharm": {
     "is_executing": false,
     "name": "#%%\n"
    }
   },
   "outputs": [
    {
     "name": "stdout",
     "output_type": "stream",
     "text": [
      "Agreed to: (0.5128205128205131, 0.4871794871794869) in 1 steps\n"
     ]
    }
   ],
   "source": [
    "class OptimalRubinsteinNegotiator(RubinsteinNegotiator):\n",
    "    \n",
    "    def propose(self, state: RubinsteinMechanismState) -> Outcome:\n",
    "        first = (1-state.discounts[1]) / (1 - state.discounts[1] * state.discounts[0])        \n",
    "        return first, 1 - first\n",
    "\n",
    "mechanism = RubinsteinMechanism()\n",
    "mechanism.add(OptimalRubinsteinNegotiator())\n",
    "mechanism.add(OptimalRubinsteinNegotiator())\n",
    "print(f\"Agreed to: {mechanism.run().agreement} in {mechanism.current_step} steps\")"
   ]
  },
  {
   "cell_type": "markdown",
   "metadata": {
    "pycharm": {
     "is_executing": false,
     "name": "#%% md\n"
    }
   },
   "source": [
    "We can see that even though both negotiators had the same time-pressure ($\\delta_0 = \\delta_1$)  and have the same\n",
    "utility function, the negotiator that started, gets a higher utility at the equilibrium. \n",
    "\n",
    "\n",
    "Let's try to make an agent that does not use the information about the other agent's "
   ]
  },
  {
   "cell_type": "code",
   "execution_count": 15,
   "metadata": {
    "pycharm": {
     "is_executing": false,
     "name": "#%%\n"
    }
   },
   "outputs": [
    {
     "name": "stdout",
     "output_type": "stream",
     "text": [
      "Agreed to: (0.5, 0.5) in 50 steps\n"
     ]
    },
    {
     "data": {
      "image/png": "[encoded data removed]",
      "text/plain": [
       "<Figure size 432x288 with 1 Axes>"
      ]
     },
     "metadata": {
      "needs_background": "light"
     },
     "output_type": "display_data"
    }
   ],
   "source": [
    "class AspirationRubinsteinNegotiator(AspirationMixin, RubinsteinNegotiator):\n",
    "    def __init__(self, *args, aspiration_type=\"linear\", max_aspiration=1.0, **kwargs):\n",
    "        super().__init__(*args, **kwargs)\n",
    "        AspirationMixin.aspiration_init(self, aspiration_type=aspiration_type, max_aspiration=max_aspiration)\n",
    "        \n",
    "    def propose(self, state: RubinsteinMechanismState)-> Outcome:\n",
    "        if self.utility_function((1.0, 1.0)) < 0.0:\n",
    "            return None\n",
    "        r = self.aspiration(state.relative_time)        \n",
    "        return  (r, 1.0 - r) if self.my_index == 0 else (1.0 - r, r)        \n",
    "\n",
    "mechanism = RubinsteinMechanism(n_steps=100, extended=True)\n",
    "mechanism.add(AspirationRubinsteinNegotiator())\n",
    "mechanism.add(AspirationRubinsteinNegotiator())\n",
    "result = mechanism.run()\n",
    "print(f\"Agreed to: {result.agreement} in {mechanism.current_step} steps\")\n",
    "plot_a_run(mechanism)"
   ]
  },
  {
   "cell_type": "markdown",
   "metadata": {
    "pycharm": {
     "is_executing": false,
     "name": "#%% md\n"
    }
   },
   "source": [
    "Now we can see when the first negotiator is a `conceder` :"
   ]
  },
  {
   "cell_type": "code",
   "execution_count": 16,
   "metadata": {
    "pycharm": {
     "is_executing": false,
     "name": "#%%\n"
    }
   },
   "outputs": [
    {
     "name": "stdout",
     "output_type": "stream",
     "text": [
      "Agreed to: (0.27257284748717403, 0.72) in 28 steps\n"
     ]
    },
    {
     "data": {
      "image/png": "[encoded data removed]",
      "text/plain": [
       "<Figure size 432x288 with 1 Axes>"
      ]
     },
     "metadata": {
      "needs_background": "light"
     },
     "output_type": "display_data"
    }
   ],
   "source": [
    "mechanism = RubinsteinMechanism(n_steps=100, extended=True)\n",
    "mechanism.add(AspirationRubinsteinNegotiator(aspiration_type=\"conceder\"))\n",
    "mechanism.add(AspirationRubinsteinNegotiator())\n",
    "print(f\"Agreed to: {mechanism.run().agreement} in {mechanism.current_step} steps\")\n",
    "plot_a_run(mechanism)"
   ]
  },
  {
   "cell_type": "markdown",
   "metadata": {
    "pycharm": {
     "name": "#%%\n"
    }
   },
   "source": [
    "As expected, the agreement shifted toward the second agent.\n"
   ]
  }
 ],
 "metadata": {
  "kernelspec": {
   "display_name": "Python 3",
   "language": "python",
   "name": "python3"
  },
  "language_info": {
   "codemirror_mode": {
    "name": "ipython",
    "version": 3
   },
   "file_extension": ".py",
   "mimetype": "text/x-python",
   "name": "python",
   "nbconvert_exporter": "python",
   "pygments_lexer": "ipython3",
   "version": "3.7.5"
  },
  "pycharm": {
   "stem_cell": {
    "cell_type": "raw",
    "metadata": {
     "collapsed": false
    },
    "source": []
   }
  },
  "toc": {
   "base_numbering": 1,
   "nav_menu": {},
   "number_sections": true,
   "sideBar": true,
   "skip_h1_title": false,
   "title_cell": "Table of Contents",
   "title_sidebar": "Contents",
   "toc_cell": false,
   "toc_position": {},
   "toc_section_display": true,
   "toc_window_display": false
  }
 },
 "nbformat": 4,
 "nbformat_minor": 2
}
