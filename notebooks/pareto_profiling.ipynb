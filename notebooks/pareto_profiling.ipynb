{
 "cells": [
  {
   "cell_type": "code",
   "execution_count": 55,
   "id": "b516ab92",
   "metadata": {},
   "outputs": [],
   "source": [
    "from negmas.preferences.ops import (\n",
    "    pareto_frontier_numpy, pareto_frontier_numpy_faster, \n",
    "    pareto_frontier_convex_hull, pareto_frontier_of, \n",
    "    pareto_frontier_chatgpt, pareto_frontier_bf\n",
    ")\n",
    "import numpy as np\n",
    "from collections import defaultdict\n",
    "from rich import print\n",
    "from time import perf_counter\n",
    "from negmas.helpers import humanize_time\n",
    "import seaborn as sns\n",
    "import matplotlib.pyplot as plt\n",
    "import pandas as pd"
   ]
  },
  {
   "cell_type": "code",
   "execution_count": 56,
   "id": "8024e31a",
   "metadata": {},
   "outputs": [],
   "source": [
    "n_outcomes = [10, 100, 1000, 10_000, 100_000, 1000_000]\n",
    "n_negotiators = [2, 3]\n",
    "n_trials = [max(3, max(n_outcomes)) // _ for _ in n_outcomes]\n",
    "eps, presort = 1e-12, True\n",
    "BFLIMIT = 100_1001\n",
    "\n",
    "utillist = ([[[\n",
    "    np.random.rand(n, m) \n",
    "    for _ in range(n_trials[i])] \n",
    "    for m in n_negotiators]\n",
    "    for i, n in enumerate(n_outcomes)])\n",
    "data = []\n",
    "def tryonce(alg, i, j, t, eps=eps, utillist=utillist):\n",
    "    utils = utillist[i][j][t]\n",
    "    start = perf_counter()    \n",
    "    pareto = alg(utils, sort_by_welfare=False, eps=eps)\n",
    "    data.append(dict(method=alg.__name__.replace(\"pareto_frontier_\", \"\"), \n",
    "                     n_outcomes=n_outcomes[i], n_negotiators=n_negotiators[j], trial=t,\n",
    "                   time=perf_counter() - start))\n",
    "    return list(pareto)"
   ]
  },
  {
   "cell_type": "code",
   "execution_count": 57,
   "id": "b515cc75",
   "metadata": {},
   "outputs": [
    {
     "name": "stderr",
     "output_type": "stream",
     "text": [
      "/Users/yasser/code/projects/negmas/negmas/preferences/ops.py:295: NegmasSlowOperation: Pareto's Quadratic Operation is too Slow: n.ops=100,000,000 (n=10,000), limit=100,000,000\n",
      "  warn_if_slow(\n",
      "/Users/yasser/code/projects/negmas/negmas/preferences/ops.py:295: NegmasSlowOperation: Pareto's Quadratic Operation is too Slow: n.ops=10,000,000,000 (n=100,000), limit=100,000,000\n",
      "  warn_if_slow(\n",
      "/Users/yasser/code/projects/negmas/negmas/preferences/ops.py:295: NegmasSlowOperation: Pareto's Quadratic Operation is too Slow: n.ops=1,000,000,000,000 (n=1,000,000), limit=100,000,000\n",
      "  warn_if_slow(\n"
     ]
    },
    {
     "data": {
      "text/html": [
       "<pre style=\"white-space:pre;overflow-x:auto;line-height:normal;font-family:Menlo,'DejaVu Sans Mono',consolas,'Courier New',monospace\">18m 8s893ms477u\n",
       "</pre>\n"
      ],
      "text/plain": [
       "18m 8s893ms477u\n"
      ]
     },
     "metadata": {},
     "output_type": "display_data"
    }
   ],
   "source": [
    "t = perf_counter()\n",
    "bf = [[[\n",
    "    tryonce(pareto_frontier_bf, n, m, t) if n_outcomes[n] < BFLIMIT else []\n",
    "    for t in range(n_trials[n])] \n",
    "    for m in range(len(n_negotiators))] \n",
    "    for n in range(len(n_outcomes))]\n",
    "print(humanize_time(perf_counter() - t, show_us=True))"
   ]
  },
  {
   "cell_type": "code",
   "execution_count": 58,
   "id": "6d6ac798",
   "metadata": {},
   "outputs": [
    {
     "data": {
      "text/html": [
       "<pre style=\"white-space:pre;overflow-x:auto;line-height:normal;font-family:Menlo,'DejaVu Sans Mono',consolas,'Courier New',monospace\"> 8s772ms336u\n",
       "</pre>\n"
      ],
      "text/plain": [
       " 8s772ms336u\n"
      ]
     },
     "metadata": {},
     "output_type": "display_data"
    }
   ],
   "source": [
    "t = perf_counter()\n",
    "numpy = [[[tryonce(pareto_frontier_numpy, n, m, t) \n",
    "    for t in range(n_trials[n])] \n",
    "    for m in range(len(n_negotiators))] \n",
    "    for n in range(len(n_outcomes))]\n",
    "print(humanize_time(perf_counter() - t, show_us=True))"
   ]
  },
  {
   "cell_type": "code",
   "execution_count": 59,
   "id": "9b1c370f",
   "metadata": {},
   "outputs": [
    {
     "data": {
      "text/html": [
       "<pre style=\"white-space:pre;overflow-x:auto;line-height:normal;font-family:Menlo,'DejaVu Sans Mono',consolas,'Courier New',monospace\">14u\n",
       "</pre>\n"
      ],
      "text/plain": [
       "14u\n"
      ]
     },
     "metadata": {},
     "output_type": "display_data"
    }
   ],
   "source": [
    "t = perf_counter()\n",
    "# numpy_faster = [[[tryonce(pareto_frontier_numpy_faster, n, m, t) for t in range(n_trials[n])] for m in range(len(n_negotiators))]  for n in range(len(n_outcomes))]\n",
    "print(humanize_time(perf_counter() - t, show_us=True))"
   ]
  },
  {
   "cell_type": "code",
   "execution_count": 60,
   "id": "af838732",
   "metadata": {},
   "outputs": [
    {
     "data": {
      "text/html": [
       "<pre style=\"white-space:pre;overflow-x:auto;line-height:normal;font-family:Menlo,'DejaVu Sans Mono',consolas,'Courier New',monospace\">19u\n",
       "</pre>\n"
      ],
      "text/plain": [
       "19u\n"
      ]
     },
     "metadata": {},
     "output_type": "display_data"
    }
   ],
   "source": [
    "t = perf_counter()\n",
    "# convex_hull = [[[tryonce(pareto_frontier_convex_hull, n, m, t) for t in range(n_trials[n])] for m in range(len(n_negotiators))]  for n in range(len(n_outcomes))]\n",
    "print(humanize_time(perf_counter() - t, show_us=True))"
   ]
  },
  {
   "cell_type": "code",
   "execution_count": 61,
   "id": "281f1c2a",
   "metadata": {},
   "outputs": [
    {
     "data": {
      "text/html": [
       "<pre style=\"white-space:pre;overflow-x:auto;line-height:normal;font-family:Menlo,'DejaVu Sans Mono',consolas,'Courier New',monospace\">17u\n",
       "</pre>\n"
      ],
      "text/plain": [
       "17u\n"
      ]
     },
     "metadata": {},
     "output_type": "display_data"
    }
   ],
   "source": [
    "t = perf_counter()\n",
    "# chatgpt = [[[tryonce(pareto_frontier_chatgpt, n, m, t) for t in range(n_trials[n])] for m in range(len(n_negotiators))]  for n in range(len(n_outcomes))]\n",
    "print(humanize_time(perf_counter() - t, show_us=True))"
   ]
  },
  {
   "cell_type": "code",
   "execution_count": 62,
   "id": "0320dbad",
   "metadata": {},
   "outputs": [],
   "source": [
    "# print(chatgpt)"
   ]
  },
  {
   "cell_type": "code",
   "execution_count": 63,
   "id": "da850c7d",
   "metadata": {},
   "outputs": [
    {
     "data": {
      "text/html": [
       "<pre style=\"white-space:pre;overflow-x:auto;line-height:normal;font-family:Menlo,'DejaVu Sans Mono',consolas,'Courier New',monospace\"><span style=\"color: #800080; text-decoration-color: #800080; font-weight: bold\">defaultdict</span><span style=\"font-weight: bold\">(&lt;</span><span style=\"color: #ff00ff; text-decoration-color: #ff00ff; font-weight: bold\">class</span><span style=\"color: #000000; text-decoration-color: #000000\"> </span><span style=\"color: #008000; text-decoration-color: #008000\">'list'</span><span style=\"font-weight: bold\">&gt;</span>, <span style=\"font-weight: bold\">{})</span>\n",
       "</pre>\n"
      ],
      "text/plain": [
       "\u001b[1;35mdefaultdict\u001b[0m\u001b[1m(\u001b[0m\u001b[1m<\u001b[0m\u001b[1;95mclass\u001b[0m\u001b[39m \u001b[0m\u001b[32m'list'\u001b[0m\u001b[1m>\u001b[0m, \u001b[1m{\u001b[0m\u001b[1m}\u001b[0m\u001b[1m)\u001b[0m\n"
      ]
     },
     "metadata": {},
     "output_type": "display_data"
    }
   ],
   "source": [
    "algs = dict(numpy=numpy,\n",
    "            brute_force=bf\n",
    "            # numpy_faster=numpy_faster, \n",
    "            # convex_hull=convex_hull, \n",
    "            # chatgpt=chatgpt\n",
    "           )\n",
    "alg_differences = defaultdict(list)\n",
    "for alg_name, alg_results in algs.items():\n",
    "    for i, n in enumerate(n_outcomes):\n",
    "        if n >= BFLIMIT:\n",
    "            continue\n",
    "        for j, m in enumerate(n_negotiators):\n",
    "            for t in range(n_trials[i]):\n",
    "                a, b = tuple(sorted(bf[i][j][t])), tuple(sorted(alg_results[i][j][t]))\n",
    "                if a[0] == b[0]:\n",
    "                    continue\n",
    "                alg_differences[alg_name].extend((a, b))\n",
    "\n",
    "print(alg_differences)"
   ]
  },
  {
   "cell_type": "code",
   "execution_count": 64,
   "id": "ebde3753",
   "metadata": {},
   "outputs": [
    {
     "data": {
      "image/png": "[encoded data removed]",
      "text/plain": [
       "<Figure size 640x480 with 1 Axes>"
      ]
     },
     "metadata": {},
     "output_type": "display_data"
    }
   ],
   "source": [
    "data = pd.DataFrame(data)\n",
    "sns.lineplot(data=data, x=\"n_outcomes\", y=\"time\", hue=\"method\")\n",
    "plt.xscale('log')\n",
    "plt.yscale('log')"
   ]
  },
  {
   "cell_type": "code",
   "execution_count": null,
   "id": "f04fada6",
   "metadata": {},
   "outputs": [],
   "source": []
  }
 ],
 "metadata": {
  "kernelspec": {
   "display_name": "negmas",
   "language": "python",
   "name": "negmas"
  },
  "language_info": {
   "codemirror_mode": {
    "name": "ipython",
    "version": 3
   },
   "file_extension": ".py",
   "mimetype": "text/x-python",
   "name": "python",
   "nbconvert_exporter": "python",
   "pygments_lexer": "ipython3",
   "version": "3.11.1"
  }
 },
 "nbformat": 4,
 "nbformat_minor": 5
}
