{
 "cells": [
  {
   "cell_type": "code",
   "execution_count": 1,
   "metadata": {
    "tags": [
     "remove_cell"
    ]
   },
   "outputs": [
    {
     "name": "stdout",
     "output_type": "stream",
     "text": [
      "Populating the interactive namespace from numpy and matplotlib\n"
     ]
    },
    {
     "name": "stderr",
     "output_type": "stream",
     "text": [
      "/Users/yasser/code/projects/negmas/venv/lib/python3.7/site-packages/IPython/core/magics/pylab.py:160: UserWarning: pylab import has clobbered these variables: ['plt']\n",
      "`%matplotlib` prevents importing * from pylab and numpy\n",
      "  \"\\n`%matplotlib` prevents importing * from pylab and numpy\"\n"
     ]
    },
    {
     "data": {
      "text/html": [
       "<style>.container { width:95% !important; }</style>"
      ],
      "text/plain": [
       "<IPython.core.display.HTML object>"
      ]
     },
     "metadata": {},
     "output_type": "display_data"
    }
   ],
   "source": [
    "# setup disply parameters\n",
    "import pandas as pd\n",
    "import numpy as np\n",
    "from matplotlib import pylab as plt\n",
    "from matplotlib.ticker import StrMethodFormatter\n",
    "float_formatter = StrMethodFormatter('{x:0.03f}')\n",
    "%pylab inline\n",
    "from IPython.core.display import display, HTML\n",
    "display(HTML(\"<style>.container { width:95% !important; }</style>\"))\n",
    "%config InlineBackend.figure_formats = ['retina', 'pdf', 'png']\n",
    "\n",
    "SMALL_SIZE = 10\n",
    "MEDIUM_SIZE = 12\n",
    "BIGGER_SIZE = 14\n",
    "\n",
    "plt.rc('font', size=SMALL_SIZE)          # controls default text sizes\n",
    "plt.rc('axes', titlesize=SMALL_SIZE)     # fontsize of the axes title\n",
    "plt.rc('axes', labelsize=MEDIUM_SIZE)    # fontsize of the x and y labels\n",
    "plt.rc('xtick', labelsize=SMALL_SIZE)    # fontsize of the tick labels\n",
    "plt.rc('ytick', labelsize=SMALL_SIZE)    # fontsize of the tick labels\n",
    "plt.rc('legend', fontsize=SMALL_SIZE)    # legend fontsize\n",
    "plt.rc('figure', titlesize=BIGGER_SIZE)  # fontsize of the figure title\n",
    "pylab.rcParams['figure.figsize'] = (18, 6)"
   ]
  },
  {
   "cell_type": "markdown",
   "metadata": {},
   "source": [
    "## Develop a factory manager (agent) for the SCM world\n",
    "\n",
    "This tutorial describes how to develop an agent for the SCM world, test it, and submit it to the ANAC 2019 SCM league.\n",
    "\n",
    "The first step is to install negmas\n",
    "\n",
    "```bash\n",
    "pip install negmas\n",
    "```\n",
    "Once you have this library installed, you can start developing your factory manager:"
   ]
  },
  {
   "cell_type": "markdown",
   "metadata": {},
   "source": [
    "You are told that you cannot instantiate your newly created class as did not implement the abstract (required) method ```on_negotiation_request```. That is actually the ONLY abstract method you need to implement."
   ]
  },
  {
   "cell_type": "code",
   "execution_count": null,
   "metadata": {},
   "outputs": [],
   "source": [
    "from negmas.apps.scml import FactoryManager\n",
    "yaml.warnings({'YAMLLoadWarning': False}) # avoid a dask warning in newest yaml.\n",
    "class MyFactoryManager(FactoryManager):\n",
    "    \"\"\"My factory manager\"\"\""
   ]
  },
  {
   "cell_type": "markdown",
   "metadata": {},
   "source": [
    "As the [documentation](http://www.yasserm.com/negmas/negmas.apps.scml.html?highlight=on_negotiation_request#negmas.apps.scml.SCMLAgent.on_negotiation_request) states, this function is called whenever your factory manager receives a request from another agent to negotiate. You can either return `None` if you do not want to accept this negotiation or create  a `Negotiator` that represents your agent in it.\n",
    "\n",
    "\n",
    "Your do-nothing agent is almost ready. Let's try it:"
   ]
  },
  {
   "cell_type": "markdown",
   "metadata": {},
   "source": [
    "The property `stats` in `World` gives you several statistics about the world for every time-step of the simulation.\n",
    "\n",
    "Let's check the contracts of this world:"
   ]
  },
  {
   "cell_type": "markdown",
   "metadata": {},
   "source": [
    "Let's try to run a tournament with this do-nothing agent against the built-in greedy agent:"
   ]
  },
  {
   "cell_type": "code",
   "execution_count": 3,
   "metadata": {},
   "outputs": [
    {
     "ename": "KeyboardInterrupt",
     "evalue": "",
     "output_type": "error",
     "traceback": [
      "\u001b[0;31m---------------------------------------------------------------------------\u001b[0m",
      "\u001b[0;31mKeyboardInterrupt\u001b[0m                         Traceback (most recent call last)",
      "\u001b[0;32m<ipython-input-3-1937f15cab0b>\u001b[0m in \u001b[0;36m<module>\u001b[0;34m\u001b[0m\n\u001b[1;32m      3\u001b[0m \u001b[0;34m\u001b[0m\u001b[0m\n\u001b[1;32m      4\u001b[0m results = anac2019_tournament(competitors=(MyFactoryManager, GreedyFactoryManager)\n\u001b[0;32m----> 5\u001b[0;31m                               , agent_names_reveal_type=True, n_runs_per_config=1)\n\u001b[0m",
      "\u001b[0;32m~/code/projects/negmas/negmas/apps/scml/utils.py\u001b[0m in \u001b[0;36manac2019_tournament\u001b[0;34m(competitors, randomize, agent_names_reveal_type, n_runs_per_config, tournament_path, max_n_runs, total_timeout, parallelism, scheduler_ip, scheduler_port, tournament_progress_callback, world_progress_callback, name, verbose, config_only, **kwargs)\u001b[0m\n\u001b[1;32m    192\u001b[0m                       \u001b[0;34m,\u001b[0m \u001b[0mworld_progress_callback\u001b[0m\u001b[0;34m=\u001b[0m\u001b[0mworld_progress_callback\u001b[0m\u001b[0;34m,\u001b[0m \u001b[0mname\u001b[0m\u001b[0;34m=\u001b[0m\u001b[0mname\u001b[0m\u001b[0;34m,\u001b[0m \u001b[0mverbose\u001b[0m\u001b[0;34m=\u001b[0m\u001b[0mverbose\u001b[0m\u001b[0;34m\u001b[0m\u001b[0;34m\u001b[0m\u001b[0m\n\u001b[1;32m    193\u001b[0m                       \u001b[0;34m,\u001b[0m \u001b[0mconfigs_only\u001b[0m\u001b[0;34m=\u001b[0m\u001b[0mconfig_only\u001b[0m\u001b[0;34m\u001b[0m\u001b[0;34m\u001b[0m\u001b[0m\n\u001b[0;32m--> 194\u001b[0;31m                       , world_generator=anac2019_world, score_calculator=balance_calculator, **kwargs)\n\u001b[0m",
      "\u001b[0;32m~/code/projects/negmas/negmas/situated.py\u001b[0m in \u001b[0;36mtournament\u001b[0;34m(competitors, world_generator, score_calculator, randomize, agent_names_reveal_type, max_n_runs, n_runs_per_config, tournament_path, total_timeout, parallelism, scheduler_ip, scheduler_port, tournament_progress_callback, world_progress_callback, name, verbose, configs_only, **kwargs)\u001b[0m\n\u001b[1;32m   2022\u001b[0m         \u001b[0;32mif\u001b[0m \u001b[0mverbose\u001b[0m\u001b[0;34m:\u001b[0m\u001b[0;34m\u001b[0m\u001b[0;34m\u001b[0m\u001b[0m\n\u001b[1;32m   2023\u001b[0m             \u001b[0mprint\u001b[0m\u001b[0;34m(\u001b[0m\u001b[0;34mf'Submitted all processes ({len(world_infos)})'\u001b[0m\u001b[0;34m)\u001b[0m\u001b[0;34m\u001b[0m\u001b[0;34m\u001b[0m\u001b[0m\n\u001b[0;32m-> 2024\u001b[0;31m         \u001b[0;32mfor\u001b[0m \u001b[0mi\u001b[0m\u001b[0;34m,\u001b[0m \u001b[0mfuture\u001b[0m \u001b[0;32min\u001b[0m \u001b[0menumerate\u001b[0m\u001b[0;34m(\u001b[0m\u001b[0mfutures\u001b[0m\u001b[0;34m.\u001b[0m\u001b[0mas_completed\u001b[0m\u001b[0;34m(\u001b[0m\u001b[0mfuture_results\u001b[0m\u001b[0;34m,\u001b[0m \u001b[0mtimeout\u001b[0m\u001b[0;34m=\u001b[0m\u001b[0mtotal_timeout\u001b[0m\u001b[0;34m)\u001b[0m\u001b[0;34m)\u001b[0m\u001b[0;34m:\u001b[0m\u001b[0;34m\u001b[0m\u001b[0;34m\u001b[0m\u001b[0m\n\u001b[0m\u001b[1;32m   2025\u001b[0m             \u001b[0;32mtry\u001b[0m\u001b[0;34m:\u001b[0m\u001b[0;34m\u001b[0m\u001b[0;34m\u001b[0m\u001b[0m\n\u001b[1;32m   2026\u001b[0m                 \u001b[0mscore_\u001b[0m\u001b[0;34m,\u001b[0m \u001b[0mdir_name\u001b[0m \u001b[0;34m=\u001b[0m \u001b[0mfuture\u001b[0m\u001b[0;34m.\u001b[0m\u001b[0mresult\u001b[0m\u001b[0;34m(\u001b[0m\u001b[0;34m)\u001b[0m\u001b[0;34m\u001b[0m\u001b[0;34m\u001b[0m\u001b[0m\n",
      "\u001b[0;32m~/anaconda3/lib/python3.7/concurrent/futures/_base.py\u001b[0m in \u001b[0;36mas_completed\u001b[0;34m(fs, timeout)\u001b[0m\n\u001b[1;32m    238\u001b[0m                             len(pending), total_futures))\n\u001b[1;32m    239\u001b[0m \u001b[0;34m\u001b[0m\u001b[0m\n\u001b[0;32m--> 240\u001b[0;31m             \u001b[0mwaiter\u001b[0m\u001b[0;34m.\u001b[0m\u001b[0mevent\u001b[0m\u001b[0;34m.\u001b[0m\u001b[0mwait\u001b[0m\u001b[0;34m(\u001b[0m\u001b[0mwait_timeout\u001b[0m\u001b[0;34m)\u001b[0m\u001b[0;34m\u001b[0m\u001b[0;34m\u001b[0m\u001b[0m\n\u001b[0m\u001b[1;32m    241\u001b[0m \u001b[0;34m\u001b[0m\u001b[0m\n\u001b[1;32m    242\u001b[0m             \u001b[0;32mwith\u001b[0m \u001b[0mwaiter\u001b[0m\u001b[0;34m.\u001b[0m\u001b[0mlock\u001b[0m\u001b[0;34m:\u001b[0m\u001b[0;34m\u001b[0m\u001b[0;34m\u001b[0m\u001b[0m\n",
      "\u001b[0;32m~/anaconda3/lib/python3.7/threading.py\u001b[0m in \u001b[0;36mwait\u001b[0;34m(self, timeout)\u001b[0m\n\u001b[1;32m    550\u001b[0m             \u001b[0msignaled\u001b[0m \u001b[0;34m=\u001b[0m \u001b[0mself\u001b[0m\u001b[0;34m.\u001b[0m\u001b[0m_flag\u001b[0m\u001b[0;34m\u001b[0m\u001b[0;34m\u001b[0m\u001b[0m\n\u001b[1;32m    551\u001b[0m             \u001b[0;32mif\u001b[0m \u001b[0;32mnot\u001b[0m \u001b[0msignaled\u001b[0m\u001b[0;34m:\u001b[0m\u001b[0;34m\u001b[0m\u001b[0;34m\u001b[0m\u001b[0m\n\u001b[0;32m--> 552\u001b[0;31m                 \u001b[0msignaled\u001b[0m \u001b[0;34m=\u001b[0m \u001b[0mself\u001b[0m\u001b[0;34m.\u001b[0m\u001b[0m_cond\u001b[0m\u001b[0;34m.\u001b[0m\u001b[0mwait\u001b[0m\u001b[0;34m(\u001b[0m\u001b[0mtimeout\u001b[0m\u001b[0;34m)\u001b[0m\u001b[0;34m\u001b[0m\u001b[0;34m\u001b[0m\u001b[0m\n\u001b[0m\u001b[1;32m    553\u001b[0m             \u001b[0;32mreturn\u001b[0m \u001b[0msignaled\u001b[0m\u001b[0;34m\u001b[0m\u001b[0;34m\u001b[0m\u001b[0m\n\u001b[1;32m    554\u001b[0m \u001b[0;34m\u001b[0m\u001b[0m\n",
      "\u001b[0;32m~/anaconda3/lib/python3.7/threading.py\u001b[0m in \u001b[0;36mwait\u001b[0;34m(self, timeout)\u001b[0m\n\u001b[1;32m    294\u001b[0m         \u001b[0;32mtry\u001b[0m\u001b[0;34m:\u001b[0m    \u001b[0;31m# restore state no matter what (e.g., KeyboardInterrupt)\u001b[0m\u001b[0;34m\u001b[0m\u001b[0;34m\u001b[0m\u001b[0m\n\u001b[1;32m    295\u001b[0m             \u001b[0;32mif\u001b[0m \u001b[0mtimeout\u001b[0m \u001b[0;32mis\u001b[0m \u001b[0;32mNone\u001b[0m\u001b[0;34m:\u001b[0m\u001b[0;34m\u001b[0m\u001b[0;34m\u001b[0m\u001b[0m\n\u001b[0;32m--> 296\u001b[0;31m                 \u001b[0mwaiter\u001b[0m\u001b[0;34m.\u001b[0m\u001b[0macquire\u001b[0m\u001b[0;34m(\u001b[0m\u001b[0;34m)\u001b[0m\u001b[0;34m\u001b[0m\u001b[0;34m\u001b[0m\u001b[0m\n\u001b[0m\u001b[1;32m    297\u001b[0m                 \u001b[0mgotit\u001b[0m \u001b[0;34m=\u001b[0m \u001b[0;32mTrue\u001b[0m\u001b[0;34m\u001b[0m\u001b[0;34m\u001b[0m\u001b[0m\n\u001b[1;32m    298\u001b[0m             \u001b[0;32melse\u001b[0m\u001b[0;34m:\u001b[0m\u001b[0;34m\u001b[0m\u001b[0;34m\u001b[0m\u001b[0m\n",
      "\u001b[0;31mKeyboardInterrupt\u001b[0m: "
     ]
    },
    {
     "name": "stderr",
     "output_type": "stream",
     "text": [
      "Process ForkProcess-2:\n",
      "Traceback (most recent call last):\n",
      "  File \"/Users/yasser/anaconda3/lib/python3.7/concurrent/futures/process.py\", line 232, in _process_worker\n",
      "    r = call_item.fn(*call_item.args, **call_item.kwargs)\n",
      "  File \"/Users/yasser/code/projects/negmas/negmas/situated.py\", line 1772, in _run_world\n",
      "    world.run()\n",
      "  File \"/Users/yasser/code/projects/negmas/negmas/situated.py\", line 978, in run\n",
      "    if not self.step():\n",
      "  File \"/Users/yasser/code/projects/negmas/negmas/situated.py\", line 889, in step\n",
      "    task.step()\n",
      "  File \"/Users/yasser/code/projects/negmas/negmas/apps/scml/consumers.py\", line 153, in step\n",
      "    self.register_product_cfps(p=p, t=t, profile=profile)\n",
      "  File \"/Users/yasser/code/projects/negmas/negmas/apps/scml/consumers.py\", line 143, in register_product_cfps\n",
      "    awi.register_cfp(cfp)\n",
      "  File \"/Users/yasser/code/projects/negmas/negmas/apps/scml/awi.py\", line 16, in register_cfp\n",
      "    self._world.bulletin_board.record(section='cfps', key=cfp.id, value=cfp)\n",
      "  File \"/Users/yasser/code/projects/negmas/negmas/situated.py\", line 332, in record\n",
      "    self.announce(Event('new_record', data={'section': section, 'key': skey, 'value': value}))\n",
      "  File \"/Users/yasser/code/projects/negmas/negmas/events.py\", line 39, in announce\n",
      "    sink.on_event(event=event, sender=self)\n",
      "  File \"/Users/yasser/code/projects/negmas/negmas/apps/scml/world.py\", line 1270, in on_event\n",
      "    m.on_new_cfp(cfp)\n",
      "  File \"/Users/yasser/code/projects/negmas/negmas/apps/scml/factory_managers.py\", line 296, in on_new_cfp\n",
      "    self._process_buy_cfp(cfp)\n",
      "  File \"/Users/yasser/code/projects/negmas/negmas/apps/scml/factory_managers.py\", line 283, in _process_buy_cfp\n",
      "    outcomes=cfp.outcomes, infeasible_cutoff=-1500)\n",
      "  File \"/Users/yasser/code/projects/negmas/negmas/utilities.py\", line 2208, in normalize\n",
      "    u = [ufun(o) for o in outcomes]\n",
      "  File \"/Users/yasser/code/projects/negmas/negmas/utilities.py\", line 2208, in <listcomp>\n",
      "    u = [ufun(o) for o in outcomes]\n",
      "  File \"/Users/yasser/code/projects/negmas/negmas/apps/scml/factory_managers.py\", line 406, in __call__\n",
      "    return self.call(agreement=SCMLAgreement(**outcome))\n",
      "  File \"/Users/yasser/code/projects/negmas/negmas/apps/scml/factory_managers.py\", line 431, in call\n",
      "    hypothetical = self.agent.total_utility(hypothetical)\n",
      "  File \"/Users/yasser/code/projects/negmas/negmas/apps/scml/factory_managers.py\", line 128, in total_utility\n",
      "    , start_at=min_sign_at)\n",
      "  File \"/Users/yasser/code/projects/negmas/negmas/apps/scml/schedulers.py\", line 172, in schedule\n",
      "    , start_at=start_at)\n",
      "  File \"/Users/yasser/code/projects/negmas/negmas/apps/scml/schedulers.py\", line 511, in find_schedule\n",
      "    , assume_no_further_negotiations=assume_no_further_negotiations)\n",
      "  File \"/Users/yasser/code/projects/negmas/negmas/apps/scml/schedulers.py\", line 495, in schedule_contracts\n",
      "    , start_at=start_at)\n",
      "  File \"/Users/yasser/code/projects/negmas/negmas/apps/scml/schedulers.py\", line 378, in schedule_contract\n",
      "    for info in self.producing[pid]:\n",
      "KeyboardInterrupt\n",
      "\n",
      "During handling of the above exception, another exception occurred:\n",
      "\n",
      "Traceback (most recent call last):\n",
      "  File \"/Users/yasser/anaconda3/lib/python3.7/multiprocessing/process.py\", line 297, in _bootstrap\n",
      "    self.run()\n",
      "  File \"/Users/yasser/anaconda3/lib/python3.7/multiprocessing/process.py\", line 99, in run\n",
      "    self._target(*self._args, **self._kwargs)\n",
      "  File \"/Users/yasser/anaconda3/lib/python3.7/concurrent/futures/process.py\", line 234, in _process_worker\n",
      "    exc = _ExceptionWithTraceback(e, e.__traceback__)\n",
      "  File \"/Users/yasser/anaconda3/lib/python3.7/concurrent/futures/process.py\", line 122, in __init__\n",
      "    tb = traceback.format_exception(type(exc), exc, tb)\n",
      "  File \"/Users/yasser/anaconda3/lib/python3.7/traceback.py\", line 121, in format_exception\n",
      "    type(value), value, tb, limit=limit).format(chain=chain))\n",
      "  File \"/Users/yasser/anaconda3/lib/python3.7/traceback.py\", line 508, in __init__\n",
      "    capture_locals=capture_locals)\n",
      "  File \"/Users/yasser/anaconda3/lib/python3.7/traceback.py\", line 363, in extract\n",
      "    f.line\n",
      "  File \"/Users/yasser/anaconda3/lib/python3.7/traceback.py\", line 285, in line\n",
      "    self._line = linecache.getline(self.filename, self.lineno).strip()\n",
      "  File \"/Users/yasser/anaconda3/lib/python3.7/linecache.py\", line 16, in getline\n",
      "    lines = getlines(filename, module_globals)\n",
      "  File \"/Users/yasser/anaconda3/lib/python3.7/linecache.py\", line 47, in getlines\n",
      "    return updatecache(filename, module_globals)\n",
      "  File \"/Users/yasser/anaconda3/lib/python3.7/linecache.py\", line 136, in updatecache\n",
      "    with tokenize.open(fullname) as fp:\n",
      "  File \"/Users/yasser/anaconda3/lib/python3.7/tokenize.py\", line 447, in open\n",
      "    buffer = _builtin_open(filename, 'rb')\n",
      "KeyboardInterrupt\n"
     ]
    }
   ],
   "source": [
    "from negmas.apps.scml.utils import anac2019_tournament\n",
    "from negmas.apps.scml import GreedyFactoryManager\n",
    "\n",
    "results = anac2019_tournament(competitors=(MyFactoryManager, GreedyFactoryManager)\n",
    "                              , agent_names_reveal_type=True, n_runs_per_config=1)"
   ]
  },
  {
   "cell_type": "markdown",
   "metadata": {},
   "source": [
    "You can see the scores that each individual factory manager got (just a random sample):"
   ]
  },
  {
   "cell_type": "code",
   "execution_count": null,
   "metadata": {},
   "outputs": [],
   "source": [
    "results.scores.head()"
   ]
  },
  {
   "cell_type": "markdown",
   "metadata": {},
   "source": [
    "You can also check the total scores for each factory manager type:"
   ]
  },
  {
   "cell_type": "code",
   "execution_count": null,
   "metadata": {},
   "outputs": [],
   "source": [
    "results.total_scores"
   ]
  },
  {
   "cell_type": "markdown",
   "metadata": {},
   "source": [
    "If you want, you can check if these differences are statistically significant using a t-test:"
   ]
  },
  {
   "cell_type": "code",
   "execution_count": null,
   "metadata": {},
   "outputs": [],
   "source": [
    "results.ttest"
   ]
  },
  {
   "cell_type": "markdown",
   "metadata": {},
   "source": [
    "So the greedy factory manager is better than the do-nothing factory manager getting a total score of 2878 compared with only 0 for the do-nothing factory manager (as expected). Moreover, this difference is statistically significant as the p-value is 0.041 < 0.05.\n",
    "\n",
    "Or, let's just find out who was the winner(s):"
   ]
  },
  {
   "cell_type": "code",
   "execution_count": null,
   "metadata": {},
   "outputs": [],
   "source": [
    "results.winners"
   ]
  },
  {
   "cell_type": "markdown",
   "metadata": {},
   "source": [
    "and what was its/their score:"
   ]
  },
  {
   "cell_type": "code",
   "execution_count": null,
   "metadata": {},
   "outputs": [],
   "source": [
    "print(results.winners_scores)"
   ]
  },
  {
   "cell_type": "markdown",
   "metadata": {},
   "source": [
    "Now, you completed the development of your factory manager, tested it by running it in worlds and tournaments, what exactly should you do to participate in the SCM league @ ANAC 2019:\n",
    "\n",
    "You need to submit the following items:\n",
    "\n",
    "- Names of all members of the team with their affiliations and email addresses\n",
    "- Either a single python file with the whole implementation of your agent with any supporting code or a zip file with a single folder containing your code. In the later case, you will need to indicate the class name of your factory manager. Any factory manager names are accepted except (Insurance, Bank, MFactoryManager, CFactoryManager).\n",
    "- A 2-pages academic report about your factory manager. Please check the submission website for details about this report.\n",
    "\n",
    "That is it folks!\n",
    "You can now start developing your own factory manager. Have fun."
   ]
  },
  {
   "cell_type": "markdown",
   "metadata": {},
   "source": []
  }
 ],
 "metadata": {
  "celltoolbar": "Tags",
  "kernelspec": {
   "display_name": "Python 3",
   "language": "python",
   "name": "python3"
  },
  "language_info": {
   "codemirror_mode": {
    "name": "ipython",
    "version": 3
   },
   "file_extension": ".py",
   "mimetype": "text/x-python",
   "name": "python",
   "nbconvert_exporter": "python",
   "pygments_lexer": "ipython3",
   "version": "3.7.1"
  }
 },
 "nbformat": 4,
 "nbformat_minor": 2
}
