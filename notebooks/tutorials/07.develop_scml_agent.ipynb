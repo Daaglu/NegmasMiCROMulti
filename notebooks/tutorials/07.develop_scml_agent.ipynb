{
 "cells": [
  {
   "cell_type": "code",
   "execution_count": 1,
   "metadata": {
    "tags": [
     "remove_cell"
    ]
   },
   "outputs": [
    {
     "name": "stdout",
     "output_type": "stream",
     "text": [
      "Populating the interactive namespace from numpy and matplotlib\n"
     ]
    },
    {
     "name": "stderr",
     "output_type": "stream",
     "text": [
      "/export/home/yasser/code/projects/negmas/venv/lib/python3.6/site-packages/IPython/core/magics/pylab.py:160: UserWarning: pylab import has clobbered these variables: ['plt']\n",
      "`%matplotlib` prevents importing * from pylab and numpy\n",
      "  \"\\n`%matplotlib` prevents importing * from pylab and numpy\"\n"
     ]
    },
    {
     "data": {
      "text/html": [
       "<style>.container { width:95% !important; }</style>"
      ],
      "text/plain": [
       "<IPython.core.display.HTML object>"
      ]
     },
     "metadata": {},
     "output_type": "display_data"
    }
   ],
   "source": [
    "# setup disply parameters\n",
    "import pandas as pd\n",
    "import numpy as np\n",
    "from matplotlib import pylab as plt\n",
    "from matplotlib.ticker import StrMethodFormatter\n",
    "float_formatter = StrMethodFormatter('{x:0.03f}')\n",
    "%pylab inline\n",
    "from IPython.core.display import display, HTML\n",
    "display(HTML(\"<style>.container { width:95% !important; }</style>\"))\n",
    "%config InlineBackend.figure_formats = ['retina', 'pdf', 'png']\n",
    "\n",
    "SMALL_SIZE = 10\n",
    "MEDIUM_SIZE = 12\n",
    "BIGGER_SIZE = 14\n",
    "\n",
    "plt.rc('font', size=SMALL_SIZE)          # controls default text sizes\n",
    "plt.rc('axes', titlesize=SMALL_SIZE)     # fontsize of the axes title\n",
    "plt.rc('axes', labelsize=MEDIUM_SIZE)    # fontsize of the x and y labels\n",
    "plt.rc('xtick', labelsize=SMALL_SIZE)    # fontsize of the tick labels\n",
    "plt.rc('ytick', labelsize=SMALL_SIZE)    # fontsize of the tick labels\n",
    "plt.rc('legend', fontsize=SMALL_SIZE)    # legend fontsize\n",
    "plt.rc('figure', titlesize=BIGGER_SIZE)  # fontsize of the figure title\n",
    "pylab.rcParams['figure.figsize'] = (18, 6)"
   ]
  },
  {
   "cell_type": "markdown",
   "metadata": {},
   "source": [
    "## Develop a factory manager (agent) for the SCM world\n",
    "\n",
    "This tutorial describes how to develop an agent for the SCM world, test it, and submit it to the ANAC 2019 SCM league.\n",
    "\n",
    "The first step is to install negmas\n",
    "\n",
    "```bash\n",
    "pip install negmas\n",
    "```\n",
    "Once you have this library installed, you can start developing your factory manager:"
   ]
  },
  {
   "cell_type": "markdown",
   "metadata": {},
   "source": [
    "You are told that you cannot instantiate your newly created class as did not implement the abstract (required) method ```on_negotiation_request```. That is actually the ONLY abstract method you need to implement."
   ]
  },
  {
   "cell_type": "code",
   "execution_count": 2,
   "metadata": {},
   "outputs": [],
   "source": [
    "from negmas.apps.scml import FactoryManager\n",
    "import yaml\n",
    "yaml.warnings({'YAMLLoadWarning': False}) # avoid a dask warning in newest yaml.\n",
    "class MyFactoryManager(FactoryManager):\n",
    "    \"\"\"My factory manager\"\"\""
   ]
  },
  {
   "cell_type": "markdown",
   "metadata": {},
   "source": [
    "As the [documentation](http://www.yasserm.com/negmas/negmas.apps.scml.html?highlight=on_negotiation_request#negmas.apps.scml.SCMLAgent.on_negotiation_request) states, this function is called whenever your factory manager receives a request from another agent to negotiate. You can either return `None` if you do not want to accept this negotiation or create  a `Negotiator` that represents your agent in it.\n",
    "\n",
    "\n",
    "Your do-nothing agent is almost ready. Let's try it:"
   ]
  },
  {
   "cell_type": "markdown",
   "metadata": {},
   "source": [
    "The property `stats` in `World` gives you several statistics about the world for every time-step of the simulation.\n",
    "\n",
    "Let's check the contracts of this world:"
   ]
  },
  {
   "cell_type": "markdown",
   "metadata": {},
   "source": [
    "Let's try to run a tournament with this do-nothing agent against the built-in greedy agent:"
   ]
  },
  {
   "cell_type": "code",
   "execution_count": 3,
   "metadata": {},
   "outputs": [],
   "source": [
    "from negmas.apps.scml.utils import anac2019_tournament\n",
    "from negmas.apps.scml import GreedyFactoryManager\n",
    "\n",
    "results = anac2019_tournament(competitors=(MyFactoryManager, GreedyFactoryManager)\n",
    "                              , agent_names_reveal_type=True, n_runs_per_config=1\n",
    "                              # , n_steps=10  # uncomment this for a faster test\n",
    "                             )"
   ]
  },
  {
   "cell_type": "markdown",
   "metadata": {},
   "source": [
    "You can see the scores that each individual factory manager got (just a random sample):"
   ]
  },
  {
   "cell_type": "code",
   "execution_count": 4,
   "metadata": {},
   "outputs": [
    {
     "data": {
      "text/html": [
       "<div>\n",
       "<style scoped>\n",
       "    .dataframe tbody tr th:only-of-type {\n",
       "        vertical-align: middle;\n",
       "    }\n",
       "\n",
       "    .dataframe tbody tr th {\n",
       "        vertical-align: top;\n",
       "    }\n",
       "\n",
       "    .dataframe thead th {\n",
       "        text-align: right;\n",
       "    }\n",
       "</style>\n",
       "<table border=\"1\" class=\"dataframe\">\n",
       "  <thead>\n",
       "    <tr style=\"text-align: right;\">\n",
       "      <th></th>\n",
       "      <th>agent_name</th>\n",
       "      <th>agent_type</th>\n",
       "      <th>log_file</th>\n",
       "      <th>score</th>\n",
       "      <th>stats_folder</th>\n",
       "      <th>world</th>\n",
       "    </tr>\n",
       "  </thead>\n",
       "  <tbody>\n",
       "    <tr>\n",
       "      <th>0</th>\n",
       "      <td>my_1_0</td>\n",
       "      <td>MyFactoryManager</td>\n",
       "      <td>None</td>\n",
       "      <td>0.000000</td>\n",
       "      <td>/export/home/yasser/code/projects/negmas/noteb...</td>\n",
       "      <td>00052/20190227-0809064n34</td>\n",
       "    </tr>\n",
       "    <tr>\n",
       "      <th>1</th>\n",
       "      <td>greedy_2_1</td>\n",
       "      <td>GreedyFactoryManager</td>\n",
       "      <td>None</td>\n",
       "      <td>0.618758</td>\n",
       "      <td>/export/home/yasser/code/projects/negmas/noteb...</td>\n",
       "      <td>00052/20190227-0809064n34</td>\n",
       "    </tr>\n",
       "    <tr>\n",
       "      <th>2</th>\n",
       "      <td>my_1_2</td>\n",
       "      <td>MyFactoryManager</td>\n",
       "      <td>None</td>\n",
       "      <td>0.000000</td>\n",
       "      <td>/export/home/yasser/code/projects/negmas/noteb...</td>\n",
       "      <td>00052/20190227-0809064n34</td>\n",
       "    </tr>\n",
       "    <tr>\n",
       "      <th>3</th>\n",
       "      <td>greedy_1_3</td>\n",
       "      <td>GreedyFactoryManager</td>\n",
       "      <td>None</td>\n",
       "      <td>0.493517</td>\n",
       "      <td>/export/home/yasser/code/projects/negmas/noteb...</td>\n",
       "      <td>00052/20190227-0809064n34</td>\n",
       "    </tr>\n",
       "    <tr>\n",
       "      <th>4</th>\n",
       "      <td>my_2_4</td>\n",
       "      <td>MyFactoryManager</td>\n",
       "      <td>None</td>\n",
       "      <td>0.000000</td>\n",
       "      <td>/export/home/yasser/code/projects/negmas/noteb...</td>\n",
       "      <td>00052/20190227-0809064n34</td>\n",
       "    </tr>\n",
       "  </tbody>\n",
       "</table>\n",
       "</div>"
      ],
      "text/plain": [
       "   agent_name            agent_type log_file     score  \\\n",
       "0      my_1_0      MyFactoryManager     None  0.000000   \n",
       "1  greedy_2_1  GreedyFactoryManager     None  0.618758   \n",
       "2      my_1_2      MyFactoryManager     None  0.000000   \n",
       "3  greedy_1_3  GreedyFactoryManager     None  0.493517   \n",
       "4      my_2_4      MyFactoryManager     None  0.000000   \n",
       "\n",
       "                                        stats_folder  \\\n",
       "0  /export/home/yasser/code/projects/negmas/noteb...   \n",
       "1  /export/home/yasser/code/projects/negmas/noteb...   \n",
       "2  /export/home/yasser/code/projects/negmas/noteb...   \n",
       "3  /export/home/yasser/code/projects/negmas/noteb...   \n",
       "4  /export/home/yasser/code/projects/negmas/noteb...   \n",
       "\n",
       "                       world  \n",
       "0  00052/20190227-0809064n34  \n",
       "1  00052/20190227-0809064n34  \n",
       "2  00052/20190227-0809064n34  \n",
       "3  00052/20190227-0809064n34  \n",
       "4  00052/20190227-0809064n34  "
      ]
     },
     "execution_count": 4,
     "metadata": {},
     "output_type": "execute_result"
    }
   ],
   "source": [
    "results.scores.head()"
   ]
  },
  {
   "cell_type": "markdown",
   "metadata": {},
   "source": [
    "You can also check the total scores for each factory manager type:"
   ]
  },
  {
   "cell_type": "code",
   "execution_count": 5,
   "metadata": {},
   "outputs": [
    {
     "data": {
      "text/html": [
       "<div>\n",
       "<style scoped>\n",
       "    .dataframe tbody tr th:only-of-type {\n",
       "        vertical-align: middle;\n",
       "    }\n",
       "\n",
       "    .dataframe tbody tr th {\n",
       "        vertical-align: top;\n",
       "    }\n",
       "\n",
       "    .dataframe thead th {\n",
       "        text-align: right;\n",
       "    }\n",
       "</style>\n",
       "<table border=\"1\" class=\"dataframe\">\n",
       "  <thead>\n",
       "    <tr style=\"text-align: right;\">\n",
       "      <th></th>\n",
       "      <th>agent_type</th>\n",
       "      <th>score</th>\n",
       "    </tr>\n",
       "  </thead>\n",
       "  <tbody>\n",
       "    <tr>\n",
       "      <th>0</th>\n",
       "      <td>GreedyFactoryManager</td>\n",
       "      <td>0.151763</td>\n",
       "    </tr>\n",
       "    <tr>\n",
       "      <th>1</th>\n",
       "      <td>MyFactoryManager</td>\n",
       "      <td>0.000000</td>\n",
       "    </tr>\n",
       "  </tbody>\n",
       "</table>\n",
       "</div>"
      ],
      "text/plain": [
       "             agent_type     score\n",
       "0  GreedyFactoryManager  0.151763\n",
       "1      MyFactoryManager  0.000000"
      ]
     },
     "execution_count": 5,
     "metadata": {},
     "output_type": "execute_result"
    }
   ],
   "source": [
    "results.total_scores"
   ]
  },
  {
   "cell_type": "markdown",
   "metadata": {},
   "source": [
    "If you want, you can check if these differences are statistically significant using a t-test:"
   ]
  },
  {
   "cell_type": "code",
   "execution_count": 6,
   "metadata": {},
   "outputs": [
    {
     "data": {
      "text/html": [
       "<div>\n",
       "<style scoped>\n",
       "    .dataframe tbody tr th:only-of-type {\n",
       "        vertical-align: middle;\n",
       "    }\n",
       "\n",
       "    .dataframe tbody tr th {\n",
       "        vertical-align: top;\n",
       "    }\n",
       "\n",
       "    .dataframe thead th {\n",
       "        text-align: right;\n",
       "    }\n",
       "</style>\n",
       "<table border=\"1\" class=\"dataframe\">\n",
       "  <thead>\n",
       "    <tr style=\"text-align: right;\">\n",
       "      <th></th>\n",
       "      <th>a</th>\n",
       "      <th>b</th>\n",
       "      <th>p</th>\n",
       "      <th>t</th>\n",
       "    </tr>\n",
       "  </thead>\n",
       "  <tbody>\n",
       "    <tr>\n",
       "      <th>0</th>\n",
       "      <td>MyFactoryManager</td>\n",
       "      <td>GreedyFactoryManager</td>\n",
       "      <td>7.399829e-67</td>\n",
       "      <td>-17.857351</td>\n",
       "    </tr>\n",
       "  </tbody>\n",
       "</table>\n",
       "</div>"
      ],
      "text/plain": [
       "                  a                     b             p          t\n",
       "0  MyFactoryManager  GreedyFactoryManager  7.399829e-67 -17.857351"
      ]
     },
     "execution_count": 6,
     "metadata": {},
     "output_type": "execute_result"
    }
   ],
   "source": [
    "results.ttest"
   ]
  },
  {
   "cell_type": "markdown",
   "metadata": {},
   "source": [
    "So the greedy factory manager is better than the do-nothing factory manager getting an average profit of *15%* compared with the expected nothing (*0%*) for the do-nothing factory manager (as expected). Moreover, this difference is statistically significant as the p-value is < *0.000001*.\n",
    "\n",
    "Or, let's just find out who was the winner(s):"
   ]
  },
  {
   "cell_type": "code",
   "execution_count": 7,
   "metadata": {},
   "outputs": [
    {
     "data": {
      "text/plain": [
       "['GreedyFactoryManager']"
      ]
     },
     "execution_count": 7,
     "metadata": {},
     "output_type": "execute_result"
    }
   ],
   "source": [
    "results.winners"
   ]
  },
  {
   "cell_type": "markdown",
   "metadata": {},
   "source": [
    "and what was its/their score:"
   ]
  },
  {
   "cell_type": "code",
   "execution_count": 8,
   "metadata": {},
   "outputs": [
    {
     "name": "stdout",
     "output_type": "stream",
     "text": [
      "[0.15176269]\n"
     ]
    }
   ],
   "source": [
    "print(results.winners_scores)"
   ]
  },
  {
   "cell_type": "markdown",
   "metadata": {},
   "source": [
    "This information and much more is also stored in a log folder that gives details of every world and total scores, etc. The default location of this log folder is under negmas/logs/tournaments in your HOME directory (this can be changed by passing a `tournament_path` to the `anac2019_tournamet` function.\n",
    "\n",
    "The information stored in this folder is:\n",
    "\n",
    "\n",
    " File/Folder Name       |      Format      |   Content\n",
    "--- | --- | ---\n",
    "configs                  |   FOLDER  |     Contains one json file for each world run tried during the tournament. You can re-run this world using `run_world` function in the `tournament` module.\n",
    "params.json             |    JSON  |      The parameters used to create this tournament\n",
    "scores.csv              |    CSV   |      Scores of every agent in every world\n",
    "total_scores.csv        |    CSV   |      Scores of every agent **type** averaged over all runs\n",
    "winners.csv             |    CSV   |       Winner *types* and their average scores\n",
    "ttest.csv               |    CSV   |       Results of a factorial TTEST comparing the performance of all agent *types*\n",
    "\n",
    "Other than these files, a folder with the same number as the corresponding config file in the configs folder, keeps full\n",
    "statistics/log of every world with the following contents:\n",
    "\n",
    "File Name          |        Format   |    Content\n",
    "--- | --- | ---\n",
    "all_contracts.csv        |    CSV    |   A record of all contracts\n",
    "contracts_full_info.csv  |    CSV    |   A record of all contracts with added information about the CFPs\n",
    "cancelled_contracts.csv  |    CSV     |  Contracts that were cancelled because one partner refused to sign it\n",
    "signed_contracts.csv     |    CSV     |  Contracts that were actually signed\n",
    "negotiations.csv         |    CSV     |  A record of all negotiations\n",
    "breaches.csv             |    CSV     |  A record of all breaches\n",
    "stats.csv                |    CSV     |  Helpful statistics about the state of the world at every timestep (e.g. N. negotiations, N. Contracts Executed, etc) in CSV format\n",
    "stats.json              |     JSON    |  Helpful statistics about the state of the world at every timestep (e.g. N. negotiations, N. Contracts Executed, etc) in JSON format\n",
    "params.json            |      JSON    |  The arguments used to run the world\n",
    "logs.txt               |      TXT     |  A log file giving details of most important events during the simulation\n"
   ]
  },
  {
   "cell_type": "markdown",
   "metadata": {},
   "source": [
    "To develop a more useful agent, you will need to override one or more of the available callbacks in ``FactroyManager`` and use methods available in the ``SCMLAWI`` (SCML Agent World Interface) to act in the world in order to maximize your profit.\n"
   ]
  },
  {
   "cell_type": "markdown",
   "metadata": {},
   "source": [
    "### Most important callbacks:\n",
    "\n",
    "The most important callbacks that your class is expected to override to be useful as a factory manager are the following:\n",
    "\n",
    "- ``init()`` Called after the world is initialized, but before any simulation steps.\n",
    "- ``step()`` Called in the simulation loop. Simulates one step of the agent’s logic. You can use this call to be *proactive*.\n",
    "- ``on_new_cfp()`` Called whenever a new Call for Proposals (CFP) is published on the bulletin board. The agent can specify a condition (e.g., buy CFPs only) such that only those CFPs that satisfy this condition will trigger this callback. By default your agent will only receive CFPs about products that it can use for production or can produce. You can override that by changing the ``insteresting_products`` property of your agent (probably in ``init()``). This callback can be used for implementing *reactive* behavior.\n",
    "- ``on_cfp_removed()`` Called whenever a CFP is removed from the bulletin board.\n",
    "- ``on_negotiation_request_accepted()/on_negotiation_request_rejected()`` Called when a negotiation request initiated by the agent is accepted/rejected.\n",
    "- ``on_negotiation_success()``/``on_negotiation_failure()`` Called when a negotiation the agent is involved in terminates.\n",
    "- ``sign_contract()`` Called by the simulator when it is time to sign a contract. The agent can refuse to sign. By default, agents sign the contract.\n",
    "- ``on_contract_signed()``/``on_contract_canelled()`` Called when a contract the agent is party to is signed/cancelled (contracts will be canceled if any of the partners party to it refused to sign it).\n",
    "- ``on_production_failure()`` Called whenever a production command scheduled by the agent cannot be executed (e.g. for lack of funds or need of input products).\n",
    "\n",
    "For more details, refer to [the detailed description of the SCM world](http://www.yasserm.com/scml/scml.pdf) and the ``Agent``, ``SCMLAgent``, and ``FactoryManager`` documentation at [NegMAS library documentation](http://www.yasserm.com/negmas/)"
   ]
  },
  {
   "cell_type": "markdown",
   "metadata": {},
   "source": [
    "### What can the agent do and know?\n",
    "\n",
    "The agent can act by calling various methods of its ``awi`` member (Agent World Interface). The most important of these are:\n",
    "\n",
    "- ``request_negotiation()`` Requests a negotiation with another partner\n",
    "- ``register_cfp()`` / ``remove_cfp()`` Registers/removes a call for proposals indicating interest in buying/selling some product and giving the negotiation issues (e.g. deliver time, unit cost, quantity, penalty, signing delay).\n",
    "- ``evaluate_insurance()`` / ``buy_insurance()`` Gets the insurance premium for some potential contract or buys one\n",
    "- ``execute()`` Executes an action in the world. The only supported actions are scheduling a production process to run at some future time-step, stopping (or canceling) a previously issued run command.\n",
    "\n",
    "The agent can also access some useful information through its ``awi``'s properties. Some of the most important such properties are:\n",
    "\n",
    "- ``state`` The state of the factory giving its current storage, cash in wallet, and standing loans as well as all scheduled production commands.\n",
    "- ``n_steps`` World simulation length\n",
    "- ``current_step`` Current world simulation step\n",
    "- ``products``/``processes`` Information about products/processes defined in this world (these are also accessible through local properties of the ``FactoryManager``\n",
    "- ``cfps`` All calls for proposals currently published in the bulletin board\n",
    "- ``breaches`` All breaches currently published in the bulletin board"
   ]
  },
  {
   "cell_type": "markdown",
   "metadata": {},
   "source": [
    "### Participation in the ANAC 2019 SCM league\n",
    "Now, you completed the development of your factory manager, tested it by running it in worlds and tournaments, what exactly should you do to participate in the SCM league @ ANAC 2019:\n",
    "\n",
    "You need to submit the following items:\n",
    "\n",
    "- Names of all members of the team with their affiliations and email addresses\n",
    "- Either a single python file with the whole implementation of your agent with any supporting code or a zip file with a single folder containing your code. In the later case, you will need to indicate the class name of your factory manager. Any factory manager names are accepted except (Insurance, Bank, MFactoryManager, CFactoryManager).\n",
    "- A 2-pages academic report about your factory manager. Please check the submission website for details about this report.\n",
    "\n",
    "That is it folks!\n",
    "You can now start developing your own factory manager. Have fun."
   ]
  },
  {
   "cell_type": "markdown",
   "metadata": {},
   "source": [
    "### More Information\n",
    "For more information, please refer to the following links:\n",
    "\n",
    "- [An overview of the SCM world/competition](http://www.yasserm.com/scml/overview.pdf): Here, you can find an overview of the SCM world, \n",
    "  the agents that inhabit it, and competition rules.\n",
    "- [A detailed description of the SCM world](http://www.yasserm.com/scml/scml.pdf): Here, you can find a more detailed (and formal) \n",
    "  description of the SCM world, including behavior of the built-in agents. This document also \n",
    "  describes the specific settings of the simulator for the ANAC 2019 SCML competition.\n",
    "- [NegMAS library documentation](http://www.yasserm.com/negmas/): Here, you can find complete documentation of the NegMAS\n",
    "  library.\n",
    "- [NegMAS Source Code on GitHub](https://github.com/yasserfarouk/negmas): Here, you can (but are by no means required to) read the source \n",
    "  code of the NegMAS library, which is released under the GPL 2.0 license.\n",
    "- [NegMAS PyPi Page](https://pypi.org/project/negmas/): Here, you can find the official project page for the NegMAS library, and \n",
    "  download the latest version (or just use pip install as described here). Version 0.2.0 will \n",
    "  be compatible with the distributed version.\n",
    "\n"
   ]
  },
  {
   "cell_type": "code",
   "execution_count": null,
   "metadata": {},
   "outputs": [],
   "source": []
  }
 ],
 "metadata": {
  "celltoolbar": "Tags",
  "kernelspec": {
   "display_name": "Python 3",
   "language": "python",
   "name": "python3"
  },
  "language_info": {
   "codemirror_mode": {
    "name": "ipython",
    "version": 3
   },
   "file_extension": ".py",
   "mimetype": "text/x-python",
   "name": "python",
   "nbconvert_exporter": "python",
   "pygments_lexer": "ipython3",
   "version": "3.7.1"
  }
 },
 "nbformat": 4,
 "nbformat_minor": 2
}
