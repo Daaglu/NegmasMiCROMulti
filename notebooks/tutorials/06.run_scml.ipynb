{
 "cells": [
  {
   "cell_type": "code",
   "execution_count": 1,
   "metadata": {
    "tags": [
     "remove_cell"
    ]
   },
   "outputs": [
    {
     "name": "stdout",
     "output_type": "stream",
     "text": [
      "Populating the interactive namespace from numpy and matplotlib\n"
     ]
    },
    {
     "name": "stderr",
     "output_type": "stream",
     "text": [
      "/Users/yasser/code/projects/negmas/venv/lib/python3.7/site-packages/IPython/core/magics/pylab.py:160: UserWarning: pylab import has clobbered these variables: ['plt']\n",
      "`%matplotlib` prevents importing * from pylab and numpy\n",
      "  \"\\n`%matplotlib` prevents importing * from pylab and numpy\"\n"
     ]
    },
    {
     "data": {
      "text/html": [
       "<style>.container { width:95% !important; }</style>"
      ],
      "text/plain": [
       "<IPython.core.display.HTML object>"
      ]
     },
     "metadata": {},
     "output_type": "display_data"
    }
   ],
   "source": [
    "# setup disply parameters\n",
    "import pandas as pd\n",
    "import numpy as np\n",
    "from matplotlib import pylab as plt\n",
    "from matplotlib.ticker import StrMethodFormatter\n",
    "float_formatter = StrMethodFormatter('{x:0.03f}')\n",
    "%pylab inline\n",
    "from IPython.core.display import display, HTML\n",
    "display(HTML(\"<style>.container { width:95% !important; }</style>\"))\n",
    "%config InlineBackend.figure_formats = ['retina', 'pdf', 'png']\n",
    "\n",
    "SMALL_SIZE = 14\n",
    "MEDIUM_SIZE = 16\n",
    "BIGGER_SIZE = 20\n",
    "\n",
    "plt.rc('font', size=SMALL_SIZE)          # controls default text sizes\n",
    "plt.rc('axes', titlesize=SMALL_SIZE)     # fontsize of the axes title\n",
    "plt.rc('axes', labelsize=MEDIUM_SIZE)    # fontsize of the x and y labels\n",
    "plt.rc('xtick', labelsize=SMALL_SIZE)    # fontsize of the tick labels\n",
    "plt.rc('ytick', labelsize=SMALL_SIZE)    # fontsize of the tick labels\n",
    "plt.rc('legend', fontsize=SMALL_SIZE)    # legend fontsize\n",
    "plt.rc('figure', titlesize=BIGGER_SIZE)  # fontsize of the figure title\n",
    "pylab.rcParams['figure.figsize'] = (18, 6)"
   ]
  },
  {
   "cell_type": "markdown",
   "metadata": {},
   "source": [
    "## Run a session of the SCML world\n",
    "\n",
    "The SCML world (Supply Chain Management League) ships as an example world with `NegMAS`. It is used as one of the leagues of ANAC 2019.\n",
    "\n",
    "In this tutorial, you will test a run of this world.\n",
    "\n",
    "Firstly, let's import everything from the SCML app"
   ]
  },
  {
   "cell_type": "code",
   "execution_count": 2,
   "metadata": {},
   "outputs": [],
   "source": [
    "from negmas.apps.scml import *"
   ]
  },
  {
   "cell_type": "markdown",
   "metadata": {},
   "source": [
    "There are several ways to create an SCML world. One of the simplest is to use one of the class methods of the `SCMLWorld` class. The resulting world will have > 100 production steps so simulating it will take a while. If you want to just test your installation (and do not care whether you get an accurate indicator of agent performance), you can set the number of steps to a small value (e.g. n_steps=10)."
   ]
  },
  {
   "cell_type": "code",
   "execution_count": null,
   "metadata": {},
   "outputs": [],
   "source": [
    "world = SCMLWorld.single_path_world(agent_names_reveal_type=True\n",
    "                                    # , n_steps=10                        # remove this comment for a fast test but do not expect factories to gain anything\n",
    "                                   )"
   ]
  },
  {
   "cell_type": "markdown",
   "metadata": {},
   "source": [
    "For debugging purposes, we set ```agent_names_reveal_type``` to true to be able to know the type of an agent from its name. During the actual ANAC 2019 competition this is passed as ```False``` preventing agents from knowing the type of other agents by just inspecting their name.\n",
    "Now you can run this world simulation by just calling `run`."
   ]
  },
  {
   "cell_type": "code",
   "execution_count": null,
   "metadata": {},
   "outputs": [],
   "source": [
    "world.run()"
   ]
  },
  {
   "cell_type": "markdown",
   "metadata": {},
   "source": [
    "Let's see what happened in this run. Firstly, how many negotiations were conducted over time"
   ]
  },
  {
   "cell_type": "code",
   "execution_count": null,
   "metadata": {},
   "outputs": [],
   "source": [
    "plt.plot(world.stats['n_negotiations'])\n",
    "plt.xlabel('Simulation Step')\n",
    "plt.ylabel('N. Negotiations')\n",
    "plt.show()"
   ]
  },
  {
   "cell_type": "markdown",
   "metadata": {},
   "source": [
    "It is clear that many negotiations happened at the beginning of the simulation with smaller number later. That is expected as the consumers publish their calls for proposals early on.\n",
    "\n",
    "Several other statistics are available:"
   ]
  },
  {
   "cell_type": "code",
   "execution_count": null,
   "metadata": {},
   "outputs": [],
   "source": [
    "print(list(world.stats.keys()))"
   ]
  },
  {
   "cell_type": "markdown",
   "metadata": {},
   "source": [
    "We can for example check the activity level of this world (defined as the total amount of money transferred due to trade)"
   ]
  },
  {
   "cell_type": "code",
   "execution_count": null,
   "metadata": {},
   "outputs": [],
   "source": [
    "plt.plot(world.stats['activity_level'])\n",
    "plt.xlabel('Simulation Step')\n",
    "plt.ylabel('Activitiy Level ($)\\nTotal Money Transferred')\n",
    "plt.show()"
   ]
  },
  {
   "cell_type": "markdown",
   "metadata": {},
   "source": [
    "We can see a picture of contracting in this world as follows:"
   ]
  },
  {
   "cell_type": "code",
   "execution_count": null,
   "metadata": {},
   "outputs": [],
   "source": [
    "plt.plot(world.stats['n_contracts_concluded'], label='Concluded Contracts')\n",
    "plt.plot(world.stats['n_contracts_cancelled'], label='Cancelled Contracts') \n",
    "plt.plot(world.stats['n_contracts_signed'], label='Signed Contracts') \n",
    "plt.plot(world.stats['n_contracts_executed'], label='Executed Contracts')\n",
    "plt.legend()\n",
    "plt.xlabel('Simulation Step')\n",
    "plt.ylabel('N. Contracts')\n",
    "plt.show()"
   ]
  },
  {
   "cell_type": "markdown",
   "metadata": {},
   "source": [
    "We can also check the breaches that happened"
   ]
  },
  {
   "cell_type": "code",
   "execution_count": null,
   "metadata": {},
   "outputs": [],
   "source": [
    "plt.plot(world.stats['breach_level'])\n",
    "plt.xlabel('Simulation Step')\n",
    "plt.ylabel('Total Breach Level')\n",
    "plt.show()"
   ]
  },
  {
   "cell_type": "markdown",
   "metadata": {},
   "source": [
    "That was a good run. No breaches were committed :-)\n",
    "\n",
    "It is also possible to focus on the behavior of some specific agent. Let's first find who was the winner (the factory manager that got maximum wealth). Notice that there can be multiple winners"
   ]
  },
  {
   "cell_type": "code",
   "execution_count": null,
   "metadata": {},
   "outputs": [],
   "source": [
    "world.winners"
   ]
  },
  {
   "cell_type": "markdown",
   "metadata": {},
   "source": [
    "What was the balance of this winner over time:"
   ]
  },
  {
   "cell_type": "code",
   "execution_count": null,
   "metadata": {},
   "outputs": [],
   "source": [
    "for winner in world.winners:\n",
    "    plt.plot(world.stats[f'balance_{winner}'], label=f'{winner}\\n({winner.__class__.__name__})')\n",
    "plt.legend()\n",
    "plt.xlabel('Simulation Step')\n",
    "plt.ylabel('Winner\\'s Balance ($)')\n",
    "plt.show()"
   ]
  },
  {
   "cell_type": "markdown",
   "metadata": {},
   "source": [
    "Let's check how did its total storage change over time:"
   ]
  },
  {
   "cell_type": "code",
   "execution_count": null,
   "metadata": {},
   "outputs": [],
   "source": [
    "for winner in world.winners:\n",
    "    plt.plot(world.stats[f'storage_{winner}'], label=winner)\n",
    "plt.xlabel('Simulation Step')\n",
    "plt.ylabel('Player\\'s Total Storage (item)')\n",
    "plt.legend()\n",
    "plt.show()"
   ]
  },
  {
   "cell_type": "markdown",
   "metadata": {},
   "source": [
    "We can actually check what happens to ALL competitors:"
   ]
  },
  {
   "cell_type": "code",
   "execution_count": null,
   "metadata": {},
   "outputs": [],
   "source": [
    "for name, _ in sorted(((_.name, _) for _ in world.factory_managers), key=lambda x: x[0]):    \n",
    "    plt.plot(world.stats[f'balance_{name}'], label=name)\n",
    "plt.xlabel('Simulation Step')\n",
    "plt.ylabel('Player Balance ($)')\n",
    "plt.legend()\n",
    "plt.show()"
   ]
  },
  {
   "cell_type": "markdown",
   "metadata": {},
   "source": [
    "It is clear form the figure that the winner was by far the best player. "
   ]
  }
 ],
 "metadata": {
  "celltoolbar": "Tags",
  "kernelspec": {
   "display_name": "negmas",
   "language": "python",
   "name": "negmas"
  },
  "language_info": {
   "codemirror_mode": {
    "name": "ipython",
    "version": 3
   },
   "file_extension": ".py",
   "mimetype": "text/x-python",
   "name": "python",
   "nbconvert_exporter": "python",
   "pygments_lexer": "ipython3",
   "version": "3.7.1"
  }
 },
 "nbformat": 4,
 "nbformat_minor": 2
}
