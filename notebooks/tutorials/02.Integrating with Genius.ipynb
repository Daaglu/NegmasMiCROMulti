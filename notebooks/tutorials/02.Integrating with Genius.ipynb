{
 "cells": [
  {
   "cell_type": "code",
   "execution_count": 1,
   "id": "a2545f79",
   "metadata": {
    "tags": [
     "remove_cell"
    ]
   },
   "outputs": [
    {
     "data": {
      "text/html": [
       "<style>.container { width:95% !important; }</style>"
      ],
      "text/plain": [
       "<IPython.core.display.HTML object>"
      ]
     },
     "metadata": {},
     "output_type": "display_data"
    }
   ],
   "source": [
    "%matplotlib inline\n",
    "import warnings\n",
    "\n",
    "warnings.filterwarnings(\"ignore\")\n",
    "# setup disply parameters\n",
    "import pandas as pd\n",
    "import numpy as np\n",
    "from rich import print\n",
    "from matplotlib import pylab as plt\n",
    "from matplotlib.ticker import StrMethodFormatter\n",
    "\n",
    "float_formatter = StrMethodFormatter(\"{x:0.03f}\")\n",
    "from IPython.core.display import display, HTML\n",
    "\n",
    "display(HTML(\"<style>.container { width:95% !important; }</style>\"))\n",
    "SMALL_SIZE = 14\n",
    "MEDIUM_SIZE = 16\n",
    "BIGGER_SIZE = 20\n",
    "\n",
    "plt.rc(\"font\", size=SMALL_SIZE)  # controls default text sizes\n",
    "plt.rc(\"axes\", titlesize=SMALL_SIZE)  # fontsize of the axes title\n",
    "plt.rc(\"axes\", labelsize=MEDIUM_SIZE)  # fontsize of the x and y labels\n",
    "plt.rc(\"xtick\", labelsize=SMALL_SIZE)  # fontsize of the tick labels\n",
    "plt.rc(\"ytick\", labelsize=SMALL_SIZE)  # fontsize of the tick labels\n",
    "plt.rc(\"legend\", fontsize=SMALL_SIZE)  # legend fontsize\n",
    "plt.rc(\"figure\", titlesize=BIGGER_SIZE)  # fontsize of the figure title\n",
    "plt.rc(\"figure\", figsize=(18, 6))  # set figure size"
   ]
  },
  {
   "cell_type": "markdown",
   "id": "db9c1062",
   "metadata": {},
   "source": [
    "## Integrating with Genius\n",
    "\n",
    "[Genius](http://ii.tudelft.nl/genius/) is a commonly used automated negotiation research platform implemented in Java. It was used to run [ANAC](http://web.tuat.ac.jp/~katfuji/ANAC2024/) and has hundreds of implemented negotiation strategy for the AOP and SAOP negotiation protocols. It supports other protocols but few existing negotiation strategies are available for any protocols other than AOP and SAOP.\n",
    "\n",
    "NegMAS provides a bridge allowing you to run Genius agents and NegMAS negotiators. This bridge **does not** come bundled with NegMAS.\n",
    "\n",
    "### Installing the bridge\n",
    "\n",
    "After installing NegMAS, you can download and prepare the bridge by running the following command in your terminal:\n",
    "\n",
    "```bash\n",
    "negmas genius-setup\n",
    "```\n",
    "\n",
    "You can check that everything is OK by running:\n",
    "\n",
    "```bash\n",
    "java -jar $HOME/negmas/files/geniusbridge.jar --version\n",
    "```\n",
    "\n",
    "#### Direct Download\n",
    "\n",
    "You can also just download the bridge [here](https://yasserfarouk.github.io/files/geniusbdidge.jar) and copy it to a folder `files` under `negmas` in your home directory. For Linx and macOS, you can just run:\n",
    "\n",
    "```bash\n",
    "curl https://yasserfarouk.github.io/files/geniusbridge.jar --create-dirs -o $HOME/negmas/files/geniusbridge.jar\n",
    "```\n",
    "\n",
    "For Windows, open a power-shell terminal and run:\n",
    "\n",
    "```PowerShell\n",
    "Invoke-WebRequest -Uri https://yasserfarouk.github.io/files/geniusbridge.jar -OutFile $HOME\\negmas\\files\\geniusbridge.jar\n",
    "```\n",
    "\n",
    "### Running the bridge [Optional]\n",
    "\n",
    "Whenever you want to use a Genius agent from negmas, it is recommended (but not necessary) to explicitly run the bridge using:\n",
    "\n",
    "```bash\n",
    "negmas genius\n",
    "```\n",
    "\n",
    "If this did not work, make sure that you have a compatible Java version installed (our tests are run using Open JDK 18 but any modern java version should work). You can also run the bridge directly using:\n",
    "\n",
    "```bash\n",
    "java -jar $HOME/negmas/files/geniusbridge.jar\n",
    "```\n",
    "\n",
    "You should get something like:\n",
    "\n",
    "```\n",
    "received options:\n",
    "Gateway 0.4.13 to python started at port 25337 listening to port 25337 [forcing timeout: 1800000ms]\n",
    "```\n",
    "\n",
    "### Getting an example scenario\n",
    "\n",
    "You can create any scenario as described in the previous tutorial. For this tutorial, we want to showcase the use of `Scenario.load` to load a scenario from the secondry storage.\n",
    "\n",
    "Firstly, let's get a negotiation scenario into your machine to use for this experiment. You can download an example domain [here](https://yasserfarouk.github.io/files/CameraB.zip), and unzip it to some place in your hard-disk to use later for the negotiation. Or just run the following command to download it to `negmas/scenarios/CameraB` under your home directory:\n",
    "\n",
    "- On Linux and \n",
    "  ```bash\n",
    "  curl https://yasserfarouk.github.io/files/CameraB.zip --create-dirs -o $HOME/negmas/scenarios/CameraB.zip\n",
    "  unzip $HOME/negmas/scenarios/CameraB.zip -d $HOME/negmas/scenarios/\n",
    "  rm $HOME/negmas/scenarios/CameraB.zip\n",
    "  ```\n",
    "- On Windows (You'll need an unzip utility like [7-Zip](https://www.7-zip.org/) installed for this script to work.)\n",
    "  ```PowerShell  \n",
    "  Invoke-WebRequest -Uri https://yasserfarouk.github.io/files/CameraB.zip -OutFile $HOME/negmas/scenarios/CameraB.zip\n",
    "  7z x $HOME/negmas/scenarios/CameraB.zip -o$HOME\\negmas\\scenarios\n",
    "  Remove-Item $HOME/negmas/scenarios/CameraB.zip\n",
    "  ```"
   ]
  },
  {
   "cell_type": "code",
   "execution_count": 4,
   "id": "46173318",
   "metadata": {
    "tags": [
     "remove_cell"
    ]
   },
   "outputs": [
    {
     "name": "stdout",
     "output_type": "stream",
     "text": [
      "  % Total    % Received % Xferd  Average Speed   Time    Time     Time  Current\n",
      "                                 Dload  Upload   Total   Spent    Left  Speed\n",
      "100  2824  100  2824    0     0  18832      0 --:--:-- --:--:-- --:--:-- 18826\n",
      "Archive:  /Users/yasser/negmas/scenarios/CameraB.zip\n",
      "replace /Users/yasser/negmas/scenarios/CameraB/.DS_Store? [y]es, [n]o, [A]ll, [N]one, [r]ename:   inflating: /Users/yasser/negmas/scenarios/CameraB/.DS_Store  \n",
      "  inflating: /Users/yasser/negmas/scenarios/CameraB/Camera-B-prof2.xml  \n",
      "  inflating: /Users/yasser/negmas/scenarios/CameraB/Camera-B-prof1.xml  \n",
      "  inflating: /Users/yasser/negmas/scenarios/CameraB/Camera-B-domain.xml  \n",
      "yes: stdout: Broken pipe\n"
     ]
    }
   ],
   "source": [
    "!curl https://yasserfarouk.github.io/files/CameraB.zip --create-dirs -o $HOME/negmas/scenarios/CameraB.zip\n",
    "!yes A | unzip $HOME/negmas/scenarios/CameraB.zip -d $HOME/negmas/scenarios/\n",
    "!rm -rf $HOME/negmas/scenarios/CameraB.zip"
   ]
  },
  {
   "cell_type": "markdown",
   "id": "63141c8b",
   "metadata": {},
   "source": [
    "### Running a negotiation from the command line\n",
    "\n",
    "Now we are ready to try the bridge from the command line:\n",
    "\n",
    "```bash\n",
    "negotiate $HOME/negmas/scenarios/CameraB --no-plot -p sao -n AspirationNegotiator -n genius.BoulwareNegotiationParty --steps=100\n",
    "```\n",
    "\n",
    "You should get something like:\n",
    "\n",
    "![negexample](negexample.jpg)\n",
    "\n",
    "You can also visualize the negotiation using:\n",
    "\n",
    "```bash\n",
    "negotiate $HOME/negmas/scenarios/CameraB --plot -p sao -n AspirationNegotiator -n genius.BoulwareNegotiationParty --steps=100\n",
    "```\n",
    "\n",
    "![negplot](negplot.jpg)\n",
    "\n",
    "\n",
    "*If you did not explicitly run the bridge, you may get an error the first time you try running a negotiation with a Genius agent involved that the system \"Cannot start the bridge\". Just try again or run the bridge explicitly as described in the previous section*\n",
    "\n",
    "### Running a negotiation in python\n",
    "\n",
    "You can run a negotiation between that has some Genius negotiators in them in python almost as easily as running a negotiation between two native NegMAS negotiators. Here is an example using the scenario we just saved:"
   ]
  },
  {
   "cell_type": "code",
   "execution_count": 3,
   "id": "7301139e",
   "metadata": {},
   "outputs": [
    {
     "ename": "ValueError",
     "evalue": "Cannot connect to the genius bridge",
     "output_type": "error",
     "traceback": [
      "\u001b[0;31m---------------------------------------------------------------------------\u001b[0m",
      "\u001b[0;31mValueError\u001b[0m                                Traceback (most recent call last)",
      "Cell \u001b[0;32mIn[3], line 9\u001b[0m\n\u001b[1;32m      7\u001b[0m session \u001b[38;5;241m=\u001b[39m scenario\u001b[38;5;241m.\u001b[39mmake_session(time_limit\u001b[38;5;241m=\u001b[39m\u001b[38;5;241m10\u001b[39m)\n\u001b[1;32m      8\u001b[0m session\u001b[38;5;241m.\u001b[39madd(AspirationNegotiator(preferences\u001b[38;5;241m=\u001b[39mscenario\u001b[38;5;241m.\u001b[39mufuns[\u001b[38;5;241m0\u001b[39m], name\u001b[38;5;241m=\u001b[39m\u001b[38;5;124m\"\u001b[39m\u001b[38;5;124maspiration\u001b[39m\u001b[38;5;124m\"\u001b[39m))\n\u001b[0;32m----> 9\u001b[0m \u001b[43msession\u001b[49m\u001b[38;5;241;43m.\u001b[39;49m\u001b[43madd\u001b[49m\u001b[43m(\u001b[49m\u001b[43mBoulwareNegotiationParty\u001b[49m\u001b[43m(\u001b[49m\u001b[43mpreferences\u001b[49m\u001b[38;5;241;43m=\u001b[39;49m\u001b[43mscenario\u001b[49m\u001b[38;5;241;43m.\u001b[39;49m\u001b[43mufuns\u001b[49m\u001b[43m[\u001b[49m\u001b[38;5;241;43m1\u001b[39;49m\u001b[43m]\u001b[49m\u001b[43m,\u001b[49m\u001b[43m \u001b[49m\u001b[43mname\u001b[49m\u001b[38;5;241;43m=\u001b[39;49m\u001b[38;5;124;43m\"\u001b[39;49m\u001b[38;5;124;43mboulware\u001b[39;49m\u001b[38;5;124;43m\"\u001b[39;49m\u001b[43m)\u001b[49m\u001b[43m)\u001b[49m\n\u001b[1;32m     10\u001b[0m session\u001b[38;5;241m.\u001b[39mrun()\n\u001b[1;32m     11\u001b[0m session\u001b[38;5;241m.\u001b[39mplot()\n",
      "File \u001b[0;32m~/code/projects/negmas/negmas/sao/mechanism.py:197\u001b[0m, in \u001b[0;36mSAOMechanism.add\u001b[0;34m(self, negotiator, preferences, role, **kwargs)\u001b[0m\n\u001b[1;32m    187\u001b[0m \u001b[38;5;28;01mdef\u001b[39;00m \u001b[38;5;21madd\u001b[39m(  \u001b[38;5;66;03m#\u001b[39;00m\n\u001b[1;32m    188\u001b[0m     \u001b[38;5;28mself\u001b[39m,\n\u001b[1;32m    189\u001b[0m     negotiator: SAONegotiator \u001b[38;5;241m|\u001b[39m GBNegotiator,\n\u001b[0;32m   (...)\u001b[0m\n\u001b[1;32m    193\u001b[0m     \u001b[38;5;241m*\u001b[39m\u001b[38;5;241m*\u001b[39mkwargs,\n\u001b[1;32m    194\u001b[0m ) \u001b[38;5;241m-\u001b[39m\u001b[38;5;241m>\u001b[39m \u001b[38;5;28mbool\u001b[39m \u001b[38;5;241m|\u001b[39m \u001b[38;5;28;01mNone\u001b[39;00m:\n\u001b[1;32m    195\u001b[0m     \u001b[38;5;28;01mfrom\u001b[39;00m \u001b[38;5;21;01m.\u001b[39;00m\u001b[38;5;21;01m.\u001b[39;00m\u001b[38;5;21;01mgenius\u001b[39;00m\u001b[38;5;21;01m.\u001b[39;00m\u001b[38;5;21;01mnegotiator\u001b[39;00m \u001b[38;5;28;01mimport\u001b[39;00m GeniusNegotiator\n\u001b[0;32m--> 197\u001b[0m     added \u001b[38;5;241m=\u001b[39m \u001b[38;5;28;43msuper\u001b[39;49m\u001b[43m(\u001b[49m\u001b[43m)\u001b[49m\u001b[38;5;241;43m.\u001b[39;49m\u001b[43madd\u001b[49m\u001b[43m(\u001b[49m\u001b[43mnegotiator\u001b[49m\u001b[43m,\u001b[49m\u001b[43m \u001b[49m\u001b[43mpreferences\u001b[49m\u001b[38;5;241;43m=\u001b[39;49m\u001b[43mpreferences\u001b[49m\u001b[43m,\u001b[49m\u001b[43m \u001b[49m\u001b[43mrole\u001b[49m\u001b[38;5;241;43m=\u001b[39;49m\u001b[43mrole\u001b[49m\u001b[43m,\u001b[49m\u001b[43m \u001b[49m\u001b[38;5;241;43m*\u001b[39;49m\u001b[38;5;241;43m*\u001b[39;49m\u001b[43mkwargs\u001b[49m\u001b[43m)\u001b[49m\n\u001b[1;32m    198\u001b[0m     \u001b[38;5;28;01mif\u001b[39;00m (\n\u001b[1;32m    199\u001b[0m         added\n\u001b[1;32m    200\u001b[0m         \u001b[38;5;129;01mand\u001b[39;00m \u001b[38;5;28misinstance\u001b[39m(negotiator, GeniusNegotiator)\n\u001b[0;32m   (...)\u001b[0m\n\u001b[1;32m    204\u001b[0m         \u001b[38;5;129;01mand\u001b[39;00m \u001b[38;5;28mself\u001b[39m\u001b[38;5;241m.\u001b[39mnmi\u001b[38;5;241m.\u001b[39mn_steps \u001b[38;5;241m!=\u001b[39m \u001b[38;5;28mfloat\u001b[39m(\u001b[38;5;124m\"\u001b[39m\u001b[38;5;124minf\u001b[39m\u001b[38;5;124m\"\u001b[39m)\n\u001b[1;32m    205\u001b[0m     ):\n\u001b[1;32m    206\u001b[0m         warnings\u001b[38;5;241m.\u001b[39mwarn(\n\u001b[1;32m    207\u001b[0m             \u001b[38;5;124mf\u001b[39m\u001b[38;5;124m\"\u001b[39m\u001b[38;5;132;01m{\u001b[39;00mnegotiator\u001b[38;5;241m.\u001b[39mid\u001b[38;5;132;01m}\u001b[39;00m\u001b[38;5;124m of type \u001b[39m\u001b[38;5;132;01m{\u001b[39;00mnegotiator\u001b[38;5;241m.\u001b[39m\u001b[38;5;18m__class__\u001b[39m\u001b[38;5;241m.\u001b[39m\u001b[38;5;18m__name__\u001b[39m\u001b[38;5;132;01m}\u001b[39;00m\u001b[38;5;124m is joining \u001b[39m\u001b[38;5;124m\"\u001b[39m\n\u001b[1;32m    208\u001b[0m             \u001b[38;5;124mf\u001b[39m\u001b[38;5;124m\"\u001b[39m\u001b[38;5;124mSAOMechanism which has a time_limit of \u001b[39m\u001b[38;5;132;01m{\u001b[39;00m\u001b[38;5;28mself\u001b[39m\u001b[38;5;241m.\u001b[39mnmi\u001b[38;5;241m.\u001b[39mtime_limit\u001b[38;5;132;01m}\u001b[39;00m\u001b[38;5;124m seconds \u001b[39m\u001b[38;5;124m\"\u001b[39m\n\u001b[0;32m   (...)\u001b[0m\n\u001b[1;32m    211\u001b[0m             warnings\u001b[38;5;241m.\u001b[39mNegmasStepAndTimeLimitWarning,\n\u001b[1;32m    212\u001b[0m         )\n",
      "File \u001b[0;32m~/code/projects/negmas/negmas/mechanisms.py:748\u001b[0m, in \u001b[0;36mMechanism.add\u001b[0;34m(self, negotiator, preferences, role, ufun)\u001b[0m\n\u001b[1;32m    745\u001b[0m \u001b[38;5;28;01mif\u001b[39;00m role \u001b[38;5;129;01mis\u001b[39;00m \u001b[38;5;28;01mNone\u001b[39;00m:\n\u001b[1;32m    746\u001b[0m     role \u001b[38;5;241m=\u001b[39m \u001b[38;5;124m\"\u001b[39m\u001b[38;5;124mnegotiator\u001b[39m\u001b[38;5;124m\"\u001b[39m\n\u001b[0;32m--> 748\u001b[0m \u001b[38;5;28;01mif\u001b[39;00m \u001b[43mnegotiator\u001b[49m\u001b[38;5;241;43m.\u001b[39;49m\u001b[43mjoin\u001b[49m\u001b[43m(\u001b[49m\n\u001b[1;32m    749\u001b[0m \u001b[43m    \u001b[49m\u001b[43mnmi\u001b[49m\u001b[38;5;241;43m=\u001b[39;49m\u001b[38;5;28;43mself\u001b[39;49m\u001b[38;5;241;43m.\u001b[39;49m\u001b[43m_get_nmi\u001b[49m\u001b[43m(\u001b[49m\u001b[43mnegotiator\u001b[49m\u001b[43m)\u001b[49m\u001b[43m,\u001b[49m\n\u001b[1;32m    750\u001b[0m \u001b[43m    \u001b[49m\u001b[43mstate\u001b[49m\u001b[38;5;241;43m=\u001b[39;49m\u001b[38;5;28;43mself\u001b[39;49m\u001b[38;5;241;43m.\u001b[39;49m\u001b[43mstate\u001b[49m\u001b[43m,\u001b[49m\n\u001b[1;32m    751\u001b[0m \u001b[43m    \u001b[49m\u001b[43mpreferences\u001b[49m\u001b[38;5;241;43m=\u001b[39;49m\u001b[43mpreferences\u001b[49m\u001b[43m,\u001b[49m\n\u001b[1;32m    752\u001b[0m \u001b[43m    \u001b[49m\u001b[43mrole\u001b[49m\u001b[38;5;241;43m=\u001b[39;49m\u001b[43mrole\u001b[49m\u001b[43m,\u001b[49m\n\u001b[1;32m    753\u001b[0m \u001b[43m\u001b[49m\u001b[43m)\u001b[49m:\n\u001b[1;32m    754\u001b[0m     \u001b[38;5;28mself\u001b[39m\u001b[38;5;241m.\u001b[39m_negotiators\u001b[38;5;241m.\u001b[39mappend(negotiator)\n\u001b[1;32m    755\u001b[0m     \u001b[38;5;28mself\u001b[39m\u001b[38;5;241m.\u001b[39m_current_state\u001b[38;5;241m.\u001b[39mn_negotiators \u001b[38;5;241m+\u001b[39m\u001b[38;5;241m=\u001b[39m \u001b[38;5;241m1\u001b[39m\n",
      "File \u001b[0;32m~/code/projects/negmas/negmas/genius/negotiator.py:299\u001b[0m, in \u001b[0;36mGeniusNegotiator.join\u001b[0;34m(self, nmi, state, preferences, ufun, role)\u001b[0m\n\u001b[1;32m    293\u001b[0m         \u001b[38;5;28mself\u001b[39m\u001b[38;5;241m.\u001b[39mconnected \u001b[38;5;241m=\u001b[39m \u001b[38;5;28mself\u001b[39m\u001b[38;5;241m.\u001b[39m_connect(\n\u001b[1;32m    294\u001b[0m             path\u001b[38;5;241m=\u001b[39m\u001b[38;5;28mself\u001b[39m\u001b[38;5;241m.\u001b[39mgenius_bridge_path,\n\u001b[1;32m    295\u001b[0m             port\u001b[38;5;241m=\u001b[39m\u001b[38;5;28mself\u001b[39m\u001b[38;5;241m.\u001b[39mport,\n\u001b[1;32m    296\u001b[0m             auto_load_java\u001b[38;5;241m=\u001b[39m\u001b[38;5;28mself\u001b[39m\u001b[38;5;241m.\u001b[39mauto_load_java,\n\u001b[1;32m    297\u001b[0m         )\n\u001b[1;32m    298\u001b[0m     \u001b[38;5;28;01mif\u001b[39;00m \u001b[38;5;129;01mnot\u001b[39;00m \u001b[38;5;28mself\u001b[39m\u001b[38;5;241m.\u001b[39mis_connected:\n\u001b[0;32m--> 299\u001b[0m         \u001b[38;5;28;01mraise\u001b[39;00m \u001b[38;5;167;01mValueError\u001b[39;00m(\u001b[38;5;124m\"\u001b[39m\u001b[38;5;124mCannot connect to the genius bridge\u001b[39m\u001b[38;5;124m\"\u001b[39m)\n\u001b[1;32m    301\u001b[0m \u001b[38;5;28mself\u001b[39m\u001b[38;5;241m.\u001b[39mjava_uuid \u001b[38;5;241m=\u001b[39m \u001b[38;5;28mself\u001b[39m\u001b[38;5;241m.\u001b[39m_create(nmi\u001b[38;5;241m.\u001b[39mn_negotiators)\n\u001b[1;32m    303\u001b[0m \u001b[38;5;28;01mif\u001b[39;00m \u001b[38;5;129;01mnot\u001b[39;00m \u001b[38;5;28misinstance\u001b[39m(nmi\u001b[38;5;241m.\u001b[39moutcome_space, CartesianOutcomeSpace) \u001b[38;5;129;01mand\u001b[39;00m \u001b[38;5;129;01mnot\u001b[39;00m \u001b[38;5;28misinstance\u001b[39m(\n\u001b[1;32m    304\u001b[0m     nmi\u001b[38;5;241m.\u001b[39moutcome_space, DiscreteCartesianOutcomeSpace\n\u001b[1;32m    305\u001b[0m ):\n",
      "\u001b[0;31mValueError\u001b[0m: Cannot connect to the genius bridge"
     ]
    }
   ],
   "source": [
    "from pathlib import Path\n",
    "from negmas.inout import Scenario\n",
    "from negmas.sao.negotiators import AspirationNegotiator\n",
    "from negmas.genius.gnegotiators import BoulwareNegotiationParty\n",
    "\n",
    "scenario = Scenario.load(Path.home() / \"negmas\" / \"scenarios\" / \"CameraB\")\n",
    "session = scenario.make_session(time_limit=10)\n",
    "session.add(AspirationNegotiator(preferences=scenario.ufuns[0], name=\"aspiration\"))\n",
    "session.add(BoulwareNegotiationParty(preferences=scenario.ufuns[1], name=\"boulware\"))\n",
    "session.run()\n",
    "session.plot()\n",
    "plt.show()"
   ]
  },
  {
   "cell_type": "markdown",
   "id": "fc06f867",
   "metadata": {},
   "source": [
    "As you can see, there is no difference between using a native NegMAS negotiator and a Genius Negotiator except in where you import it from. For NegMAS SAO negotiators, you use `negmas.sao.negotiators` and for genius negotiators you use `negmas.genius.gnegotiators`. Everything else is the same.\n",
    "\n",
    "You can even run a negotiation between two Genius negotiators directly:"
   ]
  },
  {
   "cell_type": "code",
   "execution_count": null,
   "id": "ebe63c4d",
   "metadata": {},
   "outputs": [],
   "source": [
    "from negmas.genius.gnegotiators import Atlas3, AgentK\n",
    "\n",
    "session = scenario.make_session(time_limit=10)\n",
    "session.add(Atlas3(preferences=scenario.ufuns[0], name=\"Atlas3\"))\n",
    "session.add(AgentK(preferences=scenario.ufuns[1], name=\"AgentK\"))\n",
    "session.run()\n",
    "session.plot()\n",
    "plt.show()"
   ]
  },
  {
   "cell_type": "markdown",
   "id": "fc9724f8",
   "metadata": {},
   "source": [
    "### How does it work?\n",
    "\n",
    "This integration is supported by the [GeniusNegotiator](https://negmas.readthedocs.io/en/latest/api/negmas.genius.GeniusNegotiator.html). This class, presents Genius agents as [SAONegotiator](https://negmas.readthedocs.io/en/latest/api/negmas.sao.SAONegotiator.html) objects to NegMAS. The most important difference between a `GeniusNegotiator` and a normal `SAONegotiator` from the user's point of view is the way they are constructed. A `GeniusNegotiator` has the following extra parameters in its `__init__()` function:\n",
    "\n",
    "- java_class_name (str | None) – The java class name of the Geinus underlying agent\n",
    "- domain_file_name (str | Path | None) – Optional domain file name (containing the negotiation issues or agenda)\n",
    "- utility_file_name (str | Path | None) – Optional ufun file name (xml) from which a ufun will be loaded for the agent- \n",
    "- auto_load_java (bool) – Load the genius bridge if needed\n",
    "- port (int) – The port to load the genius bridge to (or use if it is already loaded)\n",
    "- genius_bridge_path (str | None) – The path to the genius bridge\n",
    "\n",
    "Inside `genius.gnegotiators` we simply create classes for all Genius agents like this:\n",
    "\n",
    "```python\n",
    "class Atlas3(GeniusNegotiator):\n",
    "    def __init__(self, **kwargs):\n",
    "        kwargs[\"java_class_name\"] = \"agents.anac.y2015.Atlas3.Atlas3\"\n",
    "        super().__init__(**kwargs)\n",
    "```\n",
    "\n",
    "If you missed any Genius agent, you can add it by just passing the `java_class_name` parameter during construction in the same way.\n",
    "\n",
    "Let's try to run the same negotiation above without using `gnegotiators` at all:\n"
   ]
  },
  {
   "cell_type": "code",
   "execution_count": null,
   "id": "6998c373",
   "metadata": {},
   "outputs": [],
   "source": [
    "from negmas.genius import GeniusNegotiator\n",
    "\n",
    "session = scenario.make_session(time_limit=10)\n",
    "session.add(\n",
    "    GeniusNegotiator(\n",
    "        java_class_name=\"agents.anac.y2015.Atlas3.Atlas3\",\n",
    "        preferences=scenario.ufuns[0],\n",
    "        name=\"Atlas3\",\n",
    "    )\n",
    ")\n",
    "session.add(\n",
    "    GeniusNegotiator(\n",
    "        java_class_name=\"agents.anac.y2010.AgentK.Agent_K\",\n",
    "        preferences=scenario.ufuns[1],\n",
    "        name=\"AgentK\",\n",
    "    )\n",
    ")\n",
    "session.run()\n",
    "session.plot()\n",
    "plt.show()"
   ]
  },
  {
   "cell_type": "code",
   "execution_count": null,
   "id": "8deda840",
   "metadata": {},
   "outputs": [],
   "source": []
  }
 ],
 "metadata": {
  "celltoolbar": "Tags",
  "kernelspec": {
   "display_name": "negmas",
   "language": "python",
   "name": "negmas"
  },
  "language_info": {
   "codemirror_mode": {
    "name": "ipython",
    "version": 3
   },
   "file_extension": ".py",
   "mimetype": "text/x-python",
   "name": "python",
   "nbconvert_exporter": "python",
   "pygments_lexer": "ipython3",
   "version": "3.11.6"
  }
 },
 "nbformat": 4,
 "nbformat_minor": 5
}
